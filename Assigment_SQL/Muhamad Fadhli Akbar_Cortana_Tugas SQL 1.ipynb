{
 "cells": [
  {
   "cell_type": "markdown",
   "metadata": {},
   "source": [
    "## Muhamad Fadhli Akbar(Cortana)\n",
    "\n",
    "**Assigment 1 About Database**\n",
    "\n",
    "If *the image is not accessible*, it can be accessed through my github repository by [clicking on this link](https://github.com/Cortana-Coders/AICI-Tasks/ \"link github\")"
   ]
  },
  {
   "cell_type": "markdown",
   "metadata": {},
   "source": [
    "**Question 1**\n",
    "\n",
    "```sql\n",
    "\n",
    "-- Solution\n",
    "SELECT * from pagila.actor;\n",
    "\n",
    "```\n",
    "\n",
    "<img src=\"../Image/sql1_1.png\" alt=\"gambar sql\">\n",
    "\n",
    "\n",
    "<img src=\"../Image/sql1_q12.png\" alt=\"gambar sql\"> "
   ]
  },
  {
   "cell_type": "markdown",
   "metadata": {},
   "source": []
  },
  {
   "cell_type": "markdown",
   "metadata": {},
   "source": []
  },
  {
   "cell_type": "markdown",
   "metadata": {},
   "source": [
    "**Question 2**\n",
    "\n",
    "```sql\n",
    "\n",
    "-- Solution\n",
    "SELECT address, district FROM pagila.address;\n",
    "```\n",
    "---\n",
    "\n",
    "<img src=\"../Image/sql1_q2.png\">\n",
    "\n",
    "\n",
    "<img src=\"../Image/sql1_q22.png\">"
   ]
  },
  {
   "cell_type": "markdown",
   "metadata": {},
   "source": [
    "**Question 3**\n",
    "\n",
    "```sql\n",
    "\n",
    "-- Solution\n",
    "SELECT DISTINCT last_name FROM pagila.customer;\n",
    "\n",
    "```\n",
    "---\n",
    "<img src=\"../Image/sql1_q3.png\">\n",
    "\n",
    "\n",
    "<img src=\"../Image/sql1_q32.png\">"
   ]
  },
  {
   "cell_type": "markdown",
   "metadata": {},
   "source": [
    "**QUESTION 4**\n",
    "\n",
    "```sql\n",
    "\n",
    "-- Solution\n",
    "SELECT COUNT(*) FROM pagila.film;\n",
    "\n",
    "```\n",
    "---\n",
    "<img src=\"../Image/sql1_q4.png\">"
   ]
  },
  {
   "cell_type": "markdown",
   "metadata": {},
   "source": [
    "**QUESTION 5**\n",
    "\n",
    "```sql\n",
    "\n",
    "-- Solution\n",
    "SELECT COUNT(DISTINCT first_name) FROM pagila.actor;\n",
    "\n",
    "```\n",
    "---\n",
    "<img src=\"../Image/sql1_q5.png\">"
   ]
  },
  {
   "cell_type": "markdown",
   "metadata": {},
   "source": [
    "**QUESTION 6**\n",
    "\n",
    "```sql\n",
    "\n",
    "-- Solution\n",
    "SELECT rental_id, AGE(return_date, rental_date) AS rental_duration FROM pagela.rental;\n",
    "\n",
    "```\n",
    "---\n",
    "<img src=\"../Image/sql1_q6.png\">\n",
    "\n",
    "\n",
    "<img src=\"../Image/sql1_q62.png\">\n",
    "\n",
    "\n"
   ]
  },
  {
   "cell_type": "markdown",
   "metadata": {},
   "source": [
    "### **THANK YOU 😁**\n",
    "\n",
    "<img src=\"https://i.pinimg.com/originals/a3/c7/35/a3c7357e33061a3fc4f43fdd2622cbfb.gif\" width=120%>"
   ]
  },
  {
   "cell_type": "markdown",
   "metadata": {},
   "source": []
  }
 ],
 "metadata": {
  "language_info": {
   "name": "python"
  }
 },
 "nbformat": 4,
 "nbformat_minor": 2
}
