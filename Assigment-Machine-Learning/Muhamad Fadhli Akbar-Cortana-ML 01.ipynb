{
 "cells": [
  {
   "cell_type": "markdown",
   "metadata": {},
   "source": [
    "## Muhamad Fadhli Akbar(Cortana)\n",
    "\n",
    "### Assignment EDA 3 & 4\n",
    "\n",
    "Jika **file code & gambar** tidak bisa diakses, bisa menggunakan link repository yang bisa diakses dengan menggunakan [link ini](https://github.com/Cortana-Coders/AICI-Tasks/blob/main/Assigment-Data-Analysis/Muhamad%20Fadhli%20Akbar-Cortana-EDA%203%20dan%204.ipynb \"link github\")"
   ]
  },
  {
   "cell_type": "code",
   "execution_count": 3,
   "metadata": {},
   "outputs": [
    {
     "name": "stdout",
     "output_type": "stream",
     "text": [
      "Input Data:\n",
      " [[ 4.53773631 -2.29331051  3.8730088 ]\n",
      " [-2.63873697 -2.74483428  5.45842035]\n",
      " [-1.70117843 -5.72231564 -2.39979473]\n",
      " [-3.36804065  2.5803456   3.14397236]]\n"
     ]
    }
   ],
   "source": [
    "import numpy as np\n",
    "from sklearn import preprocessing\n",
    "\n",
    "# Generate random input data\n",
    "input_data = np.random.uniform(-6.0, 6.0, size=(4, 3))\n",
    "print(\"Input Data:\\n\", input_data)"
   ]
  },
  {
   "cell_type": "code",
   "execution_count": 2,
   "metadata": {},
   "outputs": [
    {
     "name": "stdout",
     "output_type": "stream",
     "text": [
      "Binarized data:\n",
      " [[1. 1. 0.]\n",
      " [1. 0. 1.]\n",
      " [0. 0. 1.]\n",
      " [0. 0. 1.]]\n"
     ]
    }
   ],
   "source": [
    "# Lakukanlah binarization terhadap input_data dengan threshold 0.7\n",
    "from sklearn.preprocessing import Binarizer\n",
    "\n",
    "# Apply binarization with threshold 0.7\n",
    "binarizer = Binarizer(threshold=0.7)\n",
    "data_binarized = binarizer.fit_transform(input_data)\n",
    "\n",
    "print(\"Binarized data:\\n\", data_binarized)"
   ]
  },
  {
   "cell_type": "code",
   "execution_count": 5,
   "metadata": {},
   "outputs": [
    {
     "name": "stdout",
     "output_type": "stream",
     "text": [
      "Min Max scaled data:\n",
      " [[1.         0.41300073 0.79824788]\n",
      " [0.09224946 0.35861771 1.        ]\n",
      " [0.21084104 0.         0.        ]\n",
      " [0.         1.         0.70547408]] \n",
      "\n",
      "Max Abs scaled data:\n",
      " [[ 1.         -0.40076617  0.70954755]\n",
      " [-0.58150954 -0.47967195  1.        ]\n",
      " [-0.37489583 -1.         -0.43965004]\n",
      " [-0.74222926  0.45092682  0.57598575]] \n",
      "\n"
     ]
    }
   ],
   "source": [
    "# Lakukanlah scalling dengan kedua metode normalization terhadap input_data\n",
    "\n",
    "from sklearn.preprocessing import MinMaxScaler, MaxAbsScaler, StandardScaler\n",
    "\n",
    "# Apply Min-Max scaling\n",
    "min_max_scaler = MinMaxScaler()\n",
    "scaled_data1 = min_max_scaler.fit_transform(input_data)\n",
    "print(\"Min Max scaled data:\\n\", scaled_data1, '\\n')\n",
    "\n",
    "# Apply Max-Abs scaling\n",
    "max_abs_scaler = MaxAbsScaler()\n",
    "scaled_data2 = max_abs_scaler.fit_transform(input_data)\n",
    "print(\"Max Abs scaled data:\\n\", scaled_data2, '\\n')"
   ]
  },
  {
   "cell_type": "code",
   "execution_count": 6,
   "metadata": {},
   "outputs": [
    {
     "name": "stdout",
     "output_type": "stream",
     "text": [
      "Standardized data: \n",
      " [[ 1.70098342 -0.08337909  0.4573886 ]\n",
      " [-0.58914699 -0.2350118   0.99290692]\n",
      " [-0.28995667 -1.23492274 -1.6614311 ]\n",
      " [-0.82187976  1.55331362  0.21113558]]\n"
     ]
    }
   ],
   "source": [
    "# Scalling with method standardization\n",
    "\n",
    "std_scaler = StandardScaler()\n",
    "std_data = std_scaler.fit_transform(input_data)\n",
    "print(\"Standardized data: \\n\", std_data)"
   ]
  },
  {
   "cell_type": "code",
   "execution_count": 7,
   "metadata": {},
   "outputs": [
    {
     "data": {
      "text/html": [
       "<div>\n",
       "<style scoped>\n",
       "    .dataframe tbody tr th:only-of-type {\n",
       "        vertical-align: middle;\n",
       "    }\n",
       "\n",
       "    .dataframe tbody tr th {\n",
       "        vertical-align: top;\n",
       "    }\n",
       "\n",
       "    .dataframe thead th {\n",
       "        text-align: right;\n",
       "    }\n",
       "</style>\n",
       "<table border=\"1\" class=\"dataframe\">\n",
       "  <thead>\n",
       "    <tr style=\"text-align: right;\">\n",
       "      <th></th>\n",
       "      <th>name</th>\n",
       "      <th>color</th>\n",
       "      <th>type</th>\n",
       "    </tr>\n",
       "  </thead>\n",
       "  <tbody>\n",
       "    <tr>\n",
       "      <th>0</th>\n",
       "      <td>J.A.R.V.I.S</td>\n",
       "      <td>blue</td>\n",
       "      <td>live</td>\n",
       "    </tr>\n",
       "    <tr>\n",
       "      <th>1</th>\n",
       "      <td>WALL-E</td>\n",
       "      <td>brown</td>\n",
       "      <td>cartoon</td>\n",
       "    </tr>\n",
       "    <tr>\n",
       "      <th>2</th>\n",
       "      <td>Baymax</td>\n",
       "      <td>white</td>\n",
       "      <td>cartoon</td>\n",
       "    </tr>\n",
       "    <tr>\n",
       "      <th>3</th>\n",
       "      <td>BB-8</td>\n",
       "      <td>yellow</td>\n",
       "      <td>live</td>\n",
       "    </tr>\n",
       "    <tr>\n",
       "      <th>4</th>\n",
       "      <td>Cortana</td>\n",
       "      <td>blue</td>\n",
       "      <td>cartoon</td>\n",
       "    </tr>\n",
       "  </tbody>\n",
       "</table>\n",
       "</div>"
      ],
      "text/plain": [
       "          name   color     type\n",
       "0  J.A.R.V.I.S    blue     live\n",
       "1       WALL-E   brown  cartoon\n",
       "2       Baymax   white  cartoon\n",
       "3         BB-8  yellow     live\n",
       "4      Cortana    blue  cartoon"
      ]
     },
     "execution_count": 7,
     "metadata": {},
     "output_type": "execute_result"
    }
   ],
   "source": [
    "import pandas as pd\n",
    "\n",
    "df = pd.DataFrame({\n",
    "    'name': ['J.A.R.V.I.S', 'WALL-E', 'Baymax', 'BB-8', 'Cortana'],\n",
    "    'color': ['blue', 'brown', 'white', 'yellow', 'blue'],\n",
    "    'type': ['live', 'cartoon', 'cartoon', 'live', 'cartoon' ]\n",
    "    })\n",
    "df"
   ]
  },
  {
   "cell_type": "code",
   "execution_count": null,
   "metadata": {},
   "outputs": [],
   "source": []
  }
 ],
 "metadata": {
  "kernelspec": {
   "display_name": "base",
   "language": "python",
   "name": "python3"
  },
  "language_info": {
   "codemirror_mode": {
    "name": "ipython",
    "version": 3
   },
   "file_extension": ".py",
   "mimetype": "text/x-python",
   "name": "python",
   "nbconvert_exporter": "python",
   "pygments_lexer": "ipython3",
   "version": "3.12.4"
  }
 },
 "nbformat": 4,
 "nbformat_minor": 0
}
