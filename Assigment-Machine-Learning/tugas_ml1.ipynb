{
  "cells": [
    {
      "cell_type": "code",
      "execution_count": 12,
      "metadata": {
        "colab": {
          "base_uri": "https://localhost:8080/"
        },
        "id": "kST8_lwk9d7v",
        "outputId": "39568da2-eee6-4cd1-c081-1e6579203ad5"
      },
      "outputs": [
        {
          "name": "stdout",
          "output_type": "stream",
          "text": [
            "[[ 0.93024391  4.74829136 -3.98601296]\n",
            " [ 1.67733097 -4.0479681  -5.0392528 ]\n",
            " [ 5.89574252 -4.13315319  2.83207394]\n",
            " [ 1.26936533 -4.59370737  3.69693312]]\n"
          ]
        }
      ],
      "source": [
        "import numpy as np\n",
        "from sklearn import preprocessing\n",
        "input_data = np.random.uniform(-6.0,6.0, size=(4,3))\n",
        "print(input_data)"
      ]
    },
    {
      "cell_type": "code",
      "execution_count": 13,
      "metadata": {
        "colab": {
          "base_uri": "https://localhost:8080/"
        },
        "id": "bAMxza3R9zAb",
        "outputId": "61b7a721-e2e1-4551-aec6-13f8b594ebdd"
      },
      "outputs": [
        {
          "name": "stdout",
          "output_type": "stream",
          "text": [
            "Binarized data:\n",
            " [[1. 1. 0.]\n",
            " [1. 0. 0.]\n",
            " [1. 0. 1.]\n",
            " [1. 0. 1.]]\n"
          ]
        }
      ],
      "source": [
        "# Lakukanlah binarization terhadap input_data dengan threshold 0.7\n",
        "\n",
        "data_binarized = ...\n",
        "print(\"Binarized data:\\n\", data_binarized)"
      ]
    },
    {
      "cell_type": "code",
      "execution_count": null,
      "metadata": {
        "id": "VStZvSZ_9d7z",
        "outputId": "8cecc1f6-2dc4-4447-fe8e-87bcd8fa7ab0"
      },
      "outputs": [
        {
          "name": "stdout",
          "output_type": "stream",
          "text": [
            "Min Max scaled data:\n",
            " [[0.48648649 0.58252427 0.99122807]\n",
            " [0.         1.         0.81578947]\n",
            " [0.27027027 0.         1.        ]\n",
            " [1.         0.99029126 0.        ]] \n",
            "\n",
            "Max Abs scaled data:\n",
            " [[ 0.3559322  -0.24050633  0.94827586]\n",
            " [-0.25423729  0.30379747  0.60344828]\n",
            " [ 0.08474576 -1.          0.96551724]\n",
            " [ 1.          0.29113924 -1.        ]] \n",
            "\n"
          ]
        }
      ],
      "source": [
        "# Lakukanlah scalling dengan kedua metode normalization terhadap input_data\n",
        "\n",
        "scaled_data1 = ...\n",
        "print (\"Min Max scaled data:\\n\", scaled_data1,'\\n')\n",
        "\n",
        "scaled_data2 = ...\n",
        "print (\"Max Abs scaled data:\\n\", scaled_data2,'\\n')"
      ]
    },
    {
      "cell_type": "code",
      "execution_count": null,
      "metadata": {
        "id": "23yom_ZT9d71",
        "outputId": "c4a2592e-cacb-4276-c179-54d396490cd5"
      },
      "outputs": [
        {
          "name": "stdout",
          "output_type": "stream",
          "text": [
            "Normalized data:\n",
            " [[ 0.12894603 -0.14880162  0.70300338]\n",
            " [-1.19735598  0.8749535   0.27694073]\n",
            " [-0.46052153 -1.57729713  0.72430651]\n",
            " [ 1.52893149  0.85114524 -1.70425062]]\n"
          ]
        }
      ],
      "source": [
        "# Lakukanlah scaling dengan metode standardization terhadap input_data\n",
        "\n",
        "std_data = ...\n",
        "print (\"Normalized data:\\n\", std_data)"
      ]
    },
    {
      "cell_type": "code",
      "execution_count": 2,
      "metadata": {
        "colab": {
          "base_uri": "https://localhost:8080/",
          "height": 206
        },
        "id": "nMIYvPHE9d71",
        "outputId": "b483cdf3-6fe5-410c-a389-0ca43c2150c5"
      },
      "outputs": [
        {
          "data": {
            "text/html": [
              "\n",
              "  <div id=\"df-27d4d6f5-7bd7-4ba3-abac-8428d6f8a13a\">\n",
              "    <div class=\"colab-df-container\">\n",
              "      <div>\n",
              "<style scoped>\n",
              "    .dataframe tbody tr th:only-of-type {\n",
              "        vertical-align: middle;\n",
              "    }\n",
              "\n",
              "    .dataframe tbody tr th {\n",
              "        vertical-align: top;\n",
              "    }\n",
              "\n",
              "    .dataframe thead th {\n",
              "        text-align: right;\n",
              "    }\n",
              "</style>\n",
              "<table border=\"1\" class=\"dataframe\">\n",
              "  <thead>\n",
              "    <tr style=\"text-align: right;\">\n",
              "      <th></th>\n",
              "      <th>name</th>\n",
              "      <th>color</th>\n",
              "      <th>type</th>\n",
              "    </tr>\n",
              "  </thead>\n",
              "  <tbody>\n",
              "    <tr>\n",
              "      <th>0</th>\n",
              "      <td>J.A.R.V.I.S</td>\n",
              "      <td>blue</td>\n",
              "      <td>live</td>\n",
              "    </tr>\n",
              "    <tr>\n",
              "      <th>1</th>\n",
              "      <td>WALL-E</td>\n",
              "      <td>brown</td>\n",
              "      <td>cartoon</td>\n",
              "    </tr>\n",
              "    <tr>\n",
              "      <th>2</th>\n",
              "      <td>Baymax</td>\n",
              "      <td>white</td>\n",
              "      <td>cartoon</td>\n",
              "    </tr>\n",
              "    <tr>\n",
              "      <th>3</th>\n",
              "      <td>BB-8</td>\n",
              "      <td>yellow</td>\n",
              "      <td>live</td>\n",
              "    </tr>\n",
              "    <tr>\n",
              "      <th>4</th>\n",
              "      <td>Cortana</td>\n",
              "      <td>blue</td>\n",
              "      <td>cartoon</td>\n",
              "    </tr>\n",
              "  </tbody>\n",
              "</table>\n",
              "</div>\n",
              "      <button class=\"colab-df-convert\" onclick=\"convertToInteractive('df-27d4d6f5-7bd7-4ba3-abac-8428d6f8a13a')\"\n",
              "              title=\"Convert this dataframe to an interactive table.\"\n",
              "              style=\"display:none;\">\n",
              "        \n",
              "  <svg xmlns=\"http://www.w3.org/2000/svg\" height=\"24px\"viewBox=\"0 0 24 24\"\n",
              "       width=\"24px\">\n",
              "    <path d=\"M0 0h24v24H0V0z\" fill=\"none\"/>\n",
              "    <path d=\"M18.56 5.44l.94 2.06.94-2.06 2.06-.94-2.06-.94-.94-2.06-.94 2.06-2.06.94zm-11 1L8.5 8.5l.94-2.06 2.06-.94-2.06-.94L8.5 2.5l-.94 2.06-2.06.94zm10 10l.94 2.06.94-2.06 2.06-.94-2.06-.94-.94-2.06-.94 2.06-2.06.94z\"/><path d=\"M17.41 7.96l-1.37-1.37c-.4-.4-.92-.59-1.43-.59-.52 0-1.04.2-1.43.59L10.3 9.45l-7.72 7.72c-.78.78-.78 2.05 0 2.83L4 21.41c.39.39.9.59 1.41.59.51 0 1.02-.2 1.41-.59l7.78-7.78 2.81-2.81c.8-.78.8-2.07 0-2.86zM5.41 20L4 18.59l7.72-7.72 1.47 1.35L5.41 20z\"/>\n",
              "  </svg>\n",
              "      </button>\n",
              "      \n",
              "  <style>\n",
              "    .colab-df-container {\n",
              "      display:flex;\n",
              "      flex-wrap:wrap;\n",
              "      gap: 12px;\n",
              "    }\n",
              "\n",
              "    .colab-df-convert {\n",
              "      background-color: #E8F0FE;\n",
              "      border: none;\n",
              "      border-radius: 50%;\n",
              "      cursor: pointer;\n",
              "      display: none;\n",
              "      fill: #1967D2;\n",
              "      height: 32px;\n",
              "      padding: 0 0 0 0;\n",
              "      width: 32px;\n",
              "    }\n",
              "\n",
              "    .colab-df-convert:hover {\n",
              "      background-color: #E2EBFA;\n",
              "      box-shadow: 0px 1px 2px rgba(60, 64, 67, 0.3), 0px 1px 3px 1px rgba(60, 64, 67, 0.15);\n",
              "      fill: #174EA6;\n",
              "    }\n",
              "\n",
              "    [theme=dark] .colab-df-convert {\n",
              "      background-color: #3B4455;\n",
              "      fill: #D2E3FC;\n",
              "    }\n",
              "\n",
              "    [theme=dark] .colab-df-convert:hover {\n",
              "      background-color: #434B5C;\n",
              "      box-shadow: 0px 1px 3px 1px rgba(0, 0, 0, 0.15);\n",
              "      filter: drop-shadow(0px 1px 2px rgba(0, 0, 0, 0.3));\n",
              "      fill: #FFFFFF;\n",
              "    }\n",
              "  </style>\n",
              "\n",
              "      <script>\n",
              "        const buttonEl =\n",
              "          document.querySelector('#df-27d4d6f5-7bd7-4ba3-abac-8428d6f8a13a button.colab-df-convert');\n",
              "        buttonEl.style.display =\n",
              "          google.colab.kernel.accessAllowed ? 'block' : 'none';\n",
              "\n",
              "        async function convertToInteractive(key) {\n",
              "          const element = document.querySelector('#df-27d4d6f5-7bd7-4ba3-abac-8428d6f8a13a');\n",
              "          const dataTable =\n",
              "            await google.colab.kernel.invokeFunction('convertToInteractive',\n",
              "                                                     [key], {});\n",
              "          if (!dataTable) return;\n",
              "\n",
              "          const docLinkHtml = 'Like what you see? Visit the ' +\n",
              "            '<a target=\"_blank\" href=https://colab.research.google.com/notebooks/data_table.ipynb>data table notebook</a>'\n",
              "            + ' to learn more about interactive tables.';\n",
              "          element.innerHTML = '';\n",
              "          dataTable['output_type'] = 'display_data';\n",
              "          await google.colab.output.renderOutput(dataTable, element);\n",
              "          const docLink = document.createElement('div');\n",
              "          docLink.innerHTML = docLinkHtml;\n",
              "          element.appendChild(docLink);\n",
              "        }\n",
              "      </script>\n",
              "    </div>\n",
              "  </div>\n",
              "  "
            ],
            "text/plain": [
              "          name   color     type\n",
              "0  J.A.R.V.I.S    blue     live\n",
              "1       WALL-E   brown  cartoon\n",
              "2       Baymax   white  cartoon\n",
              "3         BB-8  yellow     live\n",
              "4      Cortana    blue  cartoon"
            ]
          },
          "execution_count": 2,
          "metadata": {},
          "output_type": "execute_result"
        }
      ],
      "source": [
        "import pandas as pd\n",
        "\n",
        "df = pd.DataFrame({\n",
        "    'name': ['J.A.R.V.I.S', 'WALL-E', 'Baymax', 'BB-8', 'Cortana'],\n",
        "    'color': ['blue', 'brown', 'white', 'yellow', 'blue'],\n",
        "    'type': ['live', 'cartoon', 'cartoon', 'live', 'cartoon' ]\n",
        "    })\n",
        "df"
      ]
    },
    {
      "cell_type": "code",
      "execution_count": null,
      "metadata": {
        "id": "nQEy7L5k9d71",
        "outputId": "1e5529f3-1d37-4d9d-d89c-ee31396d7365"
      },
      "outputs": [
        {
          "data": {
            "text/html": [
              "<div>\n",
              "<style scoped>\n",
              "    .dataframe tbody tr th:only-of-type {\n",
              "        vertical-align: middle;\n",
              "    }\n",
              "\n",
              "    .dataframe tbody tr th {\n",
              "        vertical-align: top;\n",
              "    }\n",
              "\n",
              "    .dataframe thead th {\n",
              "        text-align: right;\n",
              "    }\n",
              "</style>\n",
              "<table border=\"1\" class=\"dataframe\">\n",
              "  <thead>\n",
              "    <tr style=\"text-align: right;\">\n",
              "      <th></th>\n",
              "      <th>name</th>\n",
              "      <th>color</th>\n",
              "      <th>encoded_color</th>\n",
              "    </tr>\n",
              "  </thead>\n",
              "  <tbody>\n",
              "    <tr>\n",
              "      <th>0</th>\n",
              "      <td>J.A.R.V.I.S</td>\n",
              "      <td>blue</td>\n",
              "      <td>0</td>\n",
              "    </tr>\n",
              "    <tr>\n",
              "      <th>1</th>\n",
              "      <td>WALL-E</td>\n",
              "      <td>brown</td>\n",
              "      <td>1</td>\n",
              "    </tr>\n",
              "    <tr>\n",
              "      <th>2</th>\n",
              "      <td>Baymax</td>\n",
              "      <td>white</td>\n",
              "      <td>2</td>\n",
              "    </tr>\n",
              "    <tr>\n",
              "      <th>3</th>\n",
              "      <td>BB-8</td>\n",
              "      <td>yellow</td>\n",
              "      <td>3</td>\n",
              "    </tr>\n",
              "    <tr>\n",
              "      <th>4</th>\n",
              "      <td>Cortana</td>\n",
              "      <td>blue</td>\n",
              "      <td>0</td>\n",
              "    </tr>\n",
              "  </tbody>\n",
              "</table>\n",
              "</div>"
            ],
            "text/plain": [
              "          name   color  encoded_color\n",
              "0  J.A.R.V.I.S    blue              0\n",
              "1       WALL-E   brown              1\n",
              "2       Baymax   white              2\n",
              "3         BB-8  yellow              3\n",
              "4      Cortana    blue              0"
            ]
          },
          "execution_count": 6,
          "metadata": {},
          "output_type": "execute_result"
        }
      ],
      "source": [
        "# Lakukanlah label encoding terhadap kolom type\n",
        "\n",
        "df['...'] = ...\n",
        "df"
      ]
    },
    {
      "cell_type": "code",
      "execution_count": null,
      "metadata": {
        "id": "R_0pSx0l9d72",
        "outputId": "5b811422-2ca2-4440-bf79-1a801ea3b76e"
      },
      "outputs": [
        {
          "data": {
            "text/html": [
              "<div>\n",
              "<style scoped>\n",
              "    .dataframe tbody tr th:only-of-type {\n",
              "        vertical-align: middle;\n",
              "    }\n",
              "\n",
              "    .dataframe tbody tr th {\n",
              "        vertical-align: top;\n",
              "    }\n",
              "\n",
              "    .dataframe thead th {\n",
              "        text-align: right;\n",
              "    }\n",
              "</style>\n",
              "<table border=\"1\" class=\"dataframe\">\n",
              "  <thead>\n",
              "    <tr style=\"text-align: right;\">\n",
              "      <th></th>\n",
              "      <th>name</th>\n",
              "      <th>color</th>\n",
              "      <th>encoded_color</th>\n",
              "      <th>blue</th>\n",
              "      <th>brown</th>\n",
              "      <th>white</th>\n",
              "      <th>yellow</th>\n",
              "    </tr>\n",
              "  </thead>\n",
              "  <tbody>\n",
              "    <tr>\n",
              "      <th>0</th>\n",
              "      <td>J.A.R.V.I.S</td>\n",
              "      <td>blue</td>\n",
              "      <td>0</td>\n",
              "      <td>1.0</td>\n",
              "      <td>0.0</td>\n",
              "      <td>0.0</td>\n",
              "      <td>0.0</td>\n",
              "    </tr>\n",
              "    <tr>\n",
              "      <th>1</th>\n",
              "      <td>WALL-E</td>\n",
              "      <td>brown</td>\n",
              "      <td>1</td>\n",
              "      <td>0.0</td>\n",
              "      <td>1.0</td>\n",
              "      <td>0.0</td>\n",
              "      <td>0.0</td>\n",
              "    </tr>\n",
              "    <tr>\n",
              "      <th>2</th>\n",
              "      <td>Baymax</td>\n",
              "      <td>white</td>\n",
              "      <td>2</td>\n",
              "      <td>0.0</td>\n",
              "      <td>0.0</td>\n",
              "      <td>1.0</td>\n",
              "      <td>0.0</td>\n",
              "    </tr>\n",
              "    <tr>\n",
              "      <th>3</th>\n",
              "      <td>BB-8</td>\n",
              "      <td>yellow</td>\n",
              "      <td>3</td>\n",
              "      <td>0.0</td>\n",
              "      <td>0.0</td>\n",
              "      <td>0.0</td>\n",
              "      <td>1.0</td>\n",
              "    </tr>\n",
              "    <tr>\n",
              "      <th>4</th>\n",
              "      <td>Cortana</td>\n",
              "      <td>blue</td>\n",
              "      <td>0</td>\n",
              "      <td>1.0</td>\n",
              "      <td>0.0</td>\n",
              "      <td>0.0</td>\n",
              "      <td>0.0</td>\n",
              "    </tr>\n",
              "  </tbody>\n",
              "</table>\n",
              "</div>"
            ],
            "text/plain": [
              "          name   color  encoded_color  blue  brown  white  yellow\n",
              "0  J.A.R.V.I.S    blue              0   1.0    0.0    0.0     0.0\n",
              "1       WALL-E   brown              1   0.0    1.0    0.0     0.0\n",
              "2       Baymax   white              2   0.0    0.0    1.0     0.0\n",
              "3         BB-8  yellow              3   0.0    0.0    0.0     1.0\n",
              "4      Cortana    blue              0   1.0    0.0    0.0     0.0"
            ]
          },
          "execution_count": 7,
          "metadata": {},
          "output_type": "execute_result"
        }
      ],
      "source": [
        "# Lakukanlah one-hot encoding terhadap kolom type\n",
        "\n",
        "type_columns = []\n",
        "for t in df['type'].unique():\n",
        "  type_columns.append(t)\n",
        "\n",
        "onehot_encoded_type = ....\n",
        "df2 = pd.DataFrame(onehot_encoded_type.toarray(), columns=type_columns)\n",
        "pd.concat([df, df2], axis=1)"
      ]
    },
    {
      "cell_type": "code",
      "execution_count": null,
      "metadata": {
        "id": "_sGGOj559d72",
        "outputId": "8abe5954-8d24-422e-9a06-34138ff206b9"
      },
      "outputs": [
        {
          "name": "stdout",
          "output_type": "stream",
          "text": [
            "Feature names: ['sepal length (cm)', 'sepal width (cm)', 'petal length (cm)', 'petal width (cm)']\n",
            "Target names: ['setosa' 'versicolor' 'virginica']\n",
            "First 10 rows of X:\n",
            " [[5.1 3.5 1.4 0.2]\n",
            " [4.9 3.  1.4 0.2]\n",
            " [4.7 3.2 1.3 0.2]\n",
            " [4.6 3.1 1.5 0.2]\n",
            " [5.  3.6 1.4 0.2]\n",
            " [5.4 3.9 1.7 0.4]\n",
            " [4.6 3.4 1.4 0.3]\n",
            " [5.  3.4 1.5 0.2]\n",
            " [4.4 2.9 1.4 0.2]\n",
            " [4.9 3.1 1.5 0.1]]\n"
          ]
        }
      ],
      "source": [
        "# Lakukanlah loading dataset iris\n",
        "\n",
        "from sklearn.datasets import ...\n",
        "iris = ...\n",
        "X = ...\n",
        "y = ...\n",
        "feature_names = ...\n",
        "target_names = ...\n",
        "print(\"Feature names:\", feature_names)\n",
        "print(\"Target names:\", target_names)\n",
        "print(\"First 10 rows of X:\\n\", X[:10])"
      ]
    },
    {
      "cell_type": "code",
      "execution_count": null,
      "metadata": {
        "id": "hdr8E4Ov9d72",
        "outputId": "6a46cfc9-124f-48e2-9344-ffc228b1ec23"
      },
      "outputs": [
        {
          "name": "stdout",
          "output_type": "stream",
          "text": [
            "(105, 4)\n",
            "(45, 4)\n",
            "(105,)\n",
            "(45,)\n"
          ]
        }
      ],
      "source": [
        "# Lakukanlah splitting dataset\n",
        "\n",
        "from sklearn.model_selection import ...\n",
        "\n",
        "..., ..., ..., ... = ...\n",
        "\n",
        "print(X_train.shape)\n",
        "print(X_test.shape)\n",
        "\n",
        "print(y_train.shape)\n",
        "print(y_test.shape)"
      ]
    },
    {
      "cell_type": "code",
      "execution_count": null,
      "metadata": {
        "id": "R2myqgYn9d73",
        "outputId": "fc17cf55-2ad5-45d2-8ea2-deea29155ebc"
      },
      "outputs": [
        {
          "name": "stdout",
          "output_type": "stream",
          "text": [
            "Accuracy: 0.9777777777777777\n",
            "Predictions: ['versicolor', 'virginica']\n"
          ]
        }
      ],
      "source": [
        "# Lakukanlah training model menggunakan algoritma KNN ( atau boleh juga mencoba dengan algoritma lain) dengan parameter neighbor bebas\n",
        "# tampilkan juga akurasi dari model yang dihasilkan\n",
        "\n",
        "...\n",
        "...\n",
        "classifier = ...\n",
        "...\n",
        "...\n",
        "\n",
        "# Finding accuracy by comparing actual response values(y_test)with predicted response value(y_pred)\n",
        "print(\"Accuracy:\", ...)\n",
        "\n",
        "# Providing sample data and the model will make prediction out of that data\n",
        "sample = [[5, 5, 3, 2], [2, 4, 3, 5]]\n",
        "preds = classifier.predict(sample)\n",
        "pred_species = [iris.target_names[p] for p in preds] \n",
        "print(\"Predictions:\", pred_species)"
      ]
    },
    {
      "cell_type": "code",
      "execution_count": null,
      "metadata": {
        "id": "BVM-EsOJ9d73",
        "outputId": "39668cb7-3a3f-4a31-943d-6febf1a168e6"
      },
      "outputs": [
        {
          "data": {
            "text/plain": [
              "['iris_classifier_knn.joblib']"
            ]
          },
          "execution_count": 11,
          "metadata": {},
          "output_type": "execute_result"
        }
      ],
      "source": [
        "# Simpanlah model yang telah di training sebelumnya menggunakan joblib\n",
        "\n",
        "import ...\n",
        "..."
      ]
    },
    {
      "cell_type": "code",
      "execution_count": null,
      "metadata": {
        "id": "mZXulTsg9d73",
        "outputId": "545cde1d-82f8-4e6b-d70c-b2ba28746236"
      },
      "outputs": [
        {
          "data": {
            "text/plain": [
              "KNeighborsClassifier(n_neighbors=3)"
            ]
          },
          "execution_count": 12,
          "metadata": {},
          "output_type": "execute_result"
        }
      ],
      "source": [
        "# Load model yang telah di save sebelumnya\n",
        "\n",
        "..."
      ]
    }
  ],
  "metadata": {
    "colab": {
      "provenance": []
    },
    "interpreter": {
      "hash": "b4298065b73915421a51cc4bbb4146a0ac3f0d0c3e88df3037c50cee72166e7a"
    },
    "kernelspec": {
      "display_name": "Python 3.10.1 64-bit",
      "language": "python",
      "name": "python3"
    },
    "language_info": {
      "codemirror_mode": {
        "name": "ipython",
        "version": 3
      },
      "file_extension": ".py",
      "mimetype": "text/x-python",
      "name": "python",
      "nbconvert_exporter": "python",
      "pygments_lexer": "ipython3",
      "version": "3.10.1"
    },
    "orig_nbformat": 4
  },
  "nbformat": 4,
  "nbformat_minor": 0
}
