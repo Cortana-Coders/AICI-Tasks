{
 "cells": [
  {
   "cell_type": "code",
   "execution_count": 1,
   "metadata": {},
   "outputs": [],
   "source": [
    "# Importing libraries\n",
    "import pandas as pd\n",
    "import numpy as np\n",
    "from sklearn.model_selection import train_test_split\n",
    "from scipy.stats import mode\n",
    "from sklearn.neighbors import KNeighborsClassifier\n",
    "from sklearn.preprocessing import LabelEncoder\n",
    "from sklearn.metrics import accuracy_score"
   ]
  },
  {
   "cell_type": "code",
   "execution_count": 3,
   "metadata": {},
   "outputs": [],
   "source": [
    "# create K Nearest Neighbors Classification model without sklearn\n",
    "\n",
    "# function to calculate euclidean distance\n",
    "def euclidean(x, x_train):\n",
    "\treturn np.sqrt(np.sum(np.square(x - x_train)))\n",
    "\t\n",
    "# KNN algorithm\n",
    "def KNN(X_test, X_train, Y_train, K):\n",
    "\t\n",
    "\t# no_of_test_examples, no_of_features\n",
    "\tm_test, n = X_test.shape\n",
    "\tm, n = X_train.shape\n",
    "\n",
    "\t# initialize Y_predict\n",
    "\tY_predict = np.zeros(m_test)\n",
    "\t\n",
    "\tfor i in range(m_test) :\n",
    "\t\tx = X_test[i]\n",
    "\t\t\n",
    "\t\t# find the K nearest neighbors from current test example\n",
    "\t\tneighbors = np.zeros(K)\n",
    "\t\teuclidean_distances = np.zeros(m)\n",
    "\t\t\n",
    "\t\tfor j in range(m):\n",
    "\t\t\td = euclidean(x, X_train[j])\n",
    "\t\t\teuclidean_distances[j] = d\n",
    "\t\t\n",
    "\t\t# sort Y_train according to euclidean_distance_array and\n",
    "\t\t# store into Y_train_sorted\n",
    "\t\tinds = euclidean_distances.argsort()\n",
    "\t\tY_train_sorted = Y_train[inds]\n",
    "\t\tneighbors = Y_train_sorted[:K]\n",
    "\t\t\n",
    "\t\t# most frequent class in K neighbors\n",
    "\t\tY_predict[i] = mode(neighbors)[0][0]\t\n",
    "\t\n",
    "\treturn Y_predict"
   ]
  },
  {
   "cell_type": "code",
   "execution_count": 4,
   "metadata": {},
   "outputs": [
    {
     "name": "stderr",
     "output_type": "stream",
     "text": [
      "e:\\Anacondaa\\Lib\\site-packages\\sklearn\\preprocessing\\_label.py:114: DataConversionWarning: A column-vector y was passed when a 1d array was expected. Please change the shape of y to (n_samples, ), for example using ravel().\n",
      "  y = column_or_1d(y, warn=True)\n",
      "e:\\Anacondaa\\Lib\\site-packages\\sklearn\\preprocessing\\_label.py:114: DataConversionWarning: A column-vector y was passed when a 1d array was expected. Please change the shape of y to (n_samples, ), for example using ravel().\n",
      "  y = column_or_1d(y, warn=True)\n"
     ]
    },
    {
     "data": {
      "text/html": [
       "<div>\n",
       "<style scoped>\n",
       "    .dataframe tbody tr th:only-of-type {\n",
       "        vertical-align: middle;\n",
       "    }\n",
       "\n",
       "    .dataframe tbody tr th {\n",
       "        vertical-align: top;\n",
       "    }\n",
       "\n",
       "    .dataframe thead th {\n",
       "        text-align: right;\n",
       "    }\n",
       "</style>\n",
       "<table border=\"1\" class=\"dataframe\">\n",
       "  <thead>\n",
       "    <tr style=\"text-align: right;\">\n",
       "      <th></th>\n",
       "      <th>Weight</th>\n",
       "      <th>Size</th>\n",
       "      <th>Class</th>\n",
       "    </tr>\n",
       "  </thead>\n",
       "  <tbody>\n",
       "    <tr>\n",
       "      <th>0</th>\n",
       "      <td>69</td>\n",
       "      <td>4.39</td>\n",
       "      <td>orange</td>\n",
       "    </tr>\n",
       "    <tr>\n",
       "      <th>1</th>\n",
       "      <td>69</td>\n",
       "      <td>4.21</td>\n",
       "      <td>orange</td>\n",
       "    </tr>\n",
       "    <tr>\n",
       "      <th>2</th>\n",
       "      <td>65</td>\n",
       "      <td>4.09</td>\n",
       "      <td>orange</td>\n",
       "    </tr>\n",
       "    <tr>\n",
       "      <th>3</th>\n",
       "      <td>72</td>\n",
       "      <td>5.85</td>\n",
       "      <td>apple</td>\n",
       "    </tr>\n",
       "    <tr>\n",
       "      <th>4</th>\n",
       "      <td>67</td>\n",
       "      <td>4.70</td>\n",
       "      <td>orange</td>\n",
       "    </tr>\n",
       "  </tbody>\n",
       "</table>\n",
       "</div>"
      ],
      "text/plain": [
       "   Weight  Size   Class\n",
       "0      69  4.39  orange\n",
       "1      69  4.21  orange\n",
       "2      65  4.09  orange\n",
       "3      72  5.85   apple\n",
       "4      67  4.70  orange"
      ]
     },
     "execution_count": 4,
     "metadata": {},
     "output_type": "execute_result"
    }
   ],
   "source": [
    "# Importing dataset\n",
    "df = pd.read_csv(\"apples_and_oranges.csv\")\n",
    "X = df.iloc[:,:-1].values\n",
    "Y = df.iloc[:,-1:].values\n",
    "\n",
    "# Splitting dataset into train and test set\n",
    "X_train, X_test, y_train, y_test = train_test_split(X, Y, test_size=1/3, random_state=0)\n",
    "le = LabelEncoder()\n",
    "y_train = le.fit_transform(y_train)\n",
    "y_test = le.fit_transform(y_test)\n",
    "\n",
    "df.head()"
   ]
  },
  {
   "cell_type": "code",
   "execution_count": 5,
   "metadata": {},
   "outputs": [
    {
     "ename": "IndexError",
     "evalue": "invalid index to scalar variable.",
     "output_type": "error",
     "traceback": [
      "\u001b[1;31m---------------------------------------------------------------------------\u001b[0m",
      "\u001b[1;31mIndexError\u001b[0m                                Traceback (most recent call last)",
      "Cell \u001b[1;32mIn[5], line 6\u001b[0m\n\u001b[0;32m      3\u001b[0m model1\u001b[38;5;241m.\u001b[39mfit(X_train,y_train)\n\u001b[0;32m      5\u001b[0m \u001b[38;5;66;03m# Prediction on test set\u001b[39;00m\n\u001b[1;32m----> 6\u001b[0m y_pred \u001b[38;5;241m=\u001b[39m KNN(X_test, X_train, y_train, \u001b[38;5;241m3\u001b[39m)   \u001b[38;5;66;03m# our customized function\u001b[39;00m\n\u001b[0;32m      7\u001b[0m y_pred1 \u001b[38;5;241m=\u001b[39m model1\u001b[38;5;241m.\u001b[39mpredict(X_test)\n",
      "Cell \u001b[1;32mIn[3], line 35\u001b[0m, in \u001b[0;36mKNN\u001b[1;34m(X_test, X_train, Y_train, K)\u001b[0m\n\u001b[0;32m     32\u001b[0m \tneighbors \u001b[38;5;241m=\u001b[39m Y_train_sorted[:K]\n\u001b[0;32m     34\u001b[0m \t\u001b[38;5;66;03m# most frequent class in K neighbors\u001b[39;00m\n\u001b[1;32m---> 35\u001b[0m \tY_predict[i] \u001b[38;5;241m=\u001b[39m mode(neighbors)[\u001b[38;5;241m0\u001b[39m][\u001b[38;5;241m0\u001b[39m]\t\n\u001b[0;32m     37\u001b[0m \u001b[38;5;28;01mreturn\u001b[39;00m Y_predict\n",
      "\u001b[1;31mIndexError\u001b[0m: invalid index to scalar variable."
     ]
    }
   ],
   "source": [
    "# create model with Sklearn \n",
    "model1 = KNeighborsClassifier(n_neighbors=3)\n",
    "model1.fit(X_train,y_train)\n",
    "\n",
    "# Prediction on test set\n",
    "y_pred = KNN(X_test, X_train, y_train, 3)   # our customized function\n",
    "y_pred1 = model1.predict(X_test)            # from sklearn"
   ]
  },
  {
   "cell_type": "code",
   "execution_count": 46,
   "metadata": {},
   "outputs": [
    {
     "name": "stdout",
     "output_type": "stream",
     "text": [
      "Accuracy on test set by our model :  100.0\n",
      "Accuracy on test set by sklearn model :  100.0\n"
     ]
    }
   ],
   "source": [
    "# measure performance\n",
    "correctly_classified = 0\n",
    "correctly_classified1 = 0\n",
    "\n",
    "# measuring accuracy by counting correctly classified test data\n",
    "# counter\n",
    "count = 0\n",
    "for count in range(np.size(y_pred)):\n",
    "    if y_test[count] == y_pred[count]:\n",
    "        correctly_classified = correctly_classified + 1\t\t\n",
    "    if y_test[count] == y_pred1[count]:\n",
    "        correctly_classified1 = correctly_classified1 + 1\n",
    "    count = count + 1\n",
    "    \n",
    "print( \"Accuracy on test set by our model : \", (correctly_classified/count)*100)\n",
    "print( \"Accuracy on test set by sklearn model : \", (correctly_classified1/count)*100)"
   ]
  },
  {
   "cell_type": "code",
   "execution_count": 10,
   "metadata": {},
   "outputs": [],
   "source": [
    "# The accuracy achieved by our model and sklearn is equal \n",
    "# which indicates the correct implementation of our model."
   ]
  }
 ],
 "metadata": {
  "kernelspec": {
   "display_name": "base",
   "language": "python",
   "name": "python3"
  },
  "language_info": {
   "codemirror_mode": {
    "name": "ipython",
    "version": 3
   },
   "file_extension": ".py",
   "mimetype": "text/x-python",
   "name": "python",
   "nbconvert_exporter": "python",
   "pygments_lexer": "ipython3",
   "version": "3.12.4"
  },
  "orig_nbformat": 4
 },
 "nbformat": 4,
 "nbformat_minor": 2
}
