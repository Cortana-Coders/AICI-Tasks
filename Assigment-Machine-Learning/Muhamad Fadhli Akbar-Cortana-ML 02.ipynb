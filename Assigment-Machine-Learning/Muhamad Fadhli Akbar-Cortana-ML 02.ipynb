{
 "cells": [
  {
   "cell_type": "markdown",
   "metadata": {},
   "source": [
    "## Muhamad Fadhli Akbar(Cortana)\n",
    "\n",
    "### Assignment Machine Learning 02 About Regression\n",
    "\n",
    "If **file code & images** cannot be accessed, you can use the repository link which can be accessed by using [this link!](https://github.com/Cortana-Coders/AICI-Tasks/blob/main/Assigment-Machine-Learning/Muhamad%20Fadhli%20Akbar-Cortana-ML%2001.ipynb \"link github\")"
   ]
  },
  {
   "cell_type": "code",
   "execution_count": 1,
   "metadata": {},
   "outputs": [
    {
     "name": "stdout",
     "output_type": "stream",
     "text": [
      "Mean Squared Error: 59510962.80787995\n",
      "R-squared: 0.9265108109341951\n"
     ]
    }
   ],
   "source": [
    "\"\"\"\n",
    "Create linear regression models using sklearn linear regression &\n",
    "50 startup dataset to predict startup profit based on\n",
    "\n",
    "- Only 1 feature (R&D spend, Administration or Marketing spend)\n",
    "\"\"\"\n",
    "\n",
    "import pandas as pd\n",
    "from sklearn.model_selection import train_test_split\n",
    "from sklearn.linear_model import LinearRegression\n",
    "from sklearn.metrics import mean_squared_error, r2_score\n",
    "\n",
    "data = pd.read_csv('50_Startups.csv')\n",
    "\n",
    "\n",
    "X = data[['R&D Spend']] \n",
    "y = data['Profit']\n",
    "\n",
    "\n",
    "X_train, X_test, y_train, y_test = train_test_split(X, y, test_size=0.2, random_state=42)\n",
    "\n",
    "\n",
    "model = LinearRegression()\n",
    "model.fit(X_train, y_train)\n",
    "y_pred = model.predict(X_test)\n",
    "\n",
    "mse = mean_squared_error(y_test, y_pred)\n",
    "r2 = r2_score(y_test, y_pred)\n",
    "\n",
    "print(f\"Mean Squared Error: {mse}\")\n",
    "print(f\"R-squared: {r2}\")\n"
   ]
  },
  {
   "cell_type": "code",
   "execution_count": 2,
   "metadata": {},
   "outputs": [
    {
     "name": "stdout",
     "output_type": "stream",
     "text": [
      "Mean Squared Error: 80926321.22295156\n",
      "R-squared: 0.9000653083037321\n"
     ]
    }
   ],
   "source": [
    "# - All 3 features (R&D spend, Administration and Marketing spend)\n",
    "\n",
    "X = data[['R&D Spend', 'Administration', 'Marketing Spend']]\n",
    "y = data['Profit']\n",
    "\n",
    "\n",
    "X_train, X_test, y_train, y_test = train_test_split(X, y, test_size=0.2, random_state=42)\n",
    "\n",
    "\n",
    "model = LinearRegression()\n",
    "model.fit(X_train, y_train)\n",
    "y_pred = model.predict(X_test)\n",
    "\n",
    "\n",
    "mse = mean_squared_error(y_test, y_pred)\n",
    "r2 = r2_score(y_test, y_pred)\n",
    "\n",
    "print(f\"Mean Squared Error: {mse}\")\n",
    "print(f\"R-squared: {r2}\")\n"
   ]
  },
  {
   "cell_type": "code",
   "execution_count": 3,
   "metadata": {},
   "outputs": [
    {
     "name": "stdout",
     "output_type": "stream",
     "text": [
      "Peluang pria dewasa di Indonesia memiliki tinggi badan > 180 cm adalah: 0.0668\n"
     ]
    }
   ],
   "source": [
    "import scipy.stats as stats\n",
    "\n",
    "# nilai mean (rata-rata)\n",
    "mean = 165\n",
    "\n",
    "# nilai standar deviasi\n",
    "stdev = 10\n",
    "\n",
    "# nilai titik data\n",
    "x = 180\n",
    "\n",
    "# menghitung peluang\n",
    "peluang = 1 - stats.norm.cdf(x, loc=mean, scale=stdev)\n",
    "\n",
    "# menampilkan hasil\n",
    "print(f\"Peluang pria dewasa di Indonesia memiliki tinggi badan > 180 cm adalah: {peluang:.4f}\")"
   ]
  },
  {
   "cell_type": "markdown",
   "metadata": {},
   "source": [
    "## **THANK YOU**\n",
    "\n",
    "<img src=\"../Image/Mayuri Shiina.jpeg\">"
   ]
  }
 ],
 "metadata": {
  "kernelspec": {
   "display_name": "base",
   "language": "python",
   "name": "python3"
  },
  "language_info": {
   "codemirror_mode": {
    "name": "ipython",
    "version": 3
   },
   "file_extension": ".py",
   "mimetype": "text/x-python",
   "name": "python",
   "nbconvert_exporter": "python",
   "pygments_lexer": "ipython3",
   "version": "3.12.4"
  }
 },
 "nbformat": 4,
 "nbformat_minor": 2
}
