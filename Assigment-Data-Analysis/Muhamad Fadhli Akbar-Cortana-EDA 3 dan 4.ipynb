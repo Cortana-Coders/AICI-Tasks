{
 "cells": [
  {
   "cell_type": "markdown",
   "metadata": {},
   "source": [
    "## Muhamad Fadhli Akbar(Cortana)\n",
    "\n",
    "### Assignment EDA 3 & 4\n",
    "\n",
    "Jika **file code & gambar** tidak bisa diakses, bisa menggunakan link repository yang bisa diakses dengan menggunakan [link ini](https://github.com/Cortana-Coders/AICI-Tasks/blob/main/Assigment-Data-Analysis/Muhamad%20Fadhli%20Akbar-Cortana-EDA%203%20dan%204.ipynb \"link github\")"
   ]
  },
  {
   "cell_type": "markdown",
   "metadata": {},
   "source": [
    "1. Buatlah dataframe dari 2019_Yellow_Taxi_Trip_Data.csv"
   ]
  },
  {
   "cell_type": "code",
   "execution_count": 1,
   "metadata": {},
   "outputs": [],
   "source": [
    "import pandas as pd\n",
    "import matplotlib.pyplot as plt\n",
    "import seaborn as sns\n",
    "\n",
    "df = pd.read_csv('2019_Yellow_Taxi_Trip_Data.csv')"
   ]
  },
  {
   "cell_type": "markdown",
   "metadata": {},
   "source": [
    "2. Carilah dimensi(*baris dan kolom*) dari dataframe tersebut"
   ]
  },
  {
   "cell_type": "code",
   "execution_count": 2,
   "metadata": {},
   "outputs": [
    {
     "name": "stdout",
     "output_type": "stream",
     "text": [
      "Dimensi dataframe = \n",
      "jumlah baris: 50000\n",
      "jumlah kolom: 19\n"
     ]
    }
   ],
   "source": [
    "print(\"Dimensi dataframe = \")\n",
    "print(f\"jumlah baris: {df.shape[0]}\")\n",
    "print(f\"jumlah kolom: {df.shape[1]}\")"
   ]
  },
  {
   "cell_type": "markdown",
   "metadata": {},
   "source": [
    "3. Hitunglah *summary* statistics untuk **fare_amount , tip_amount, tolls_amount dan total_amount**"
   ]
  },
  {
   "cell_type": "code",
   "execution_count": 3,
   "metadata": {},
   "outputs": [
    {
     "name": "stdout",
     "output_type": "stream",
     "text": [
      "\n",
      "Summary Statistics:\n",
      "        fare_amount    tip_amount  tolls_amount  total_amount\n",
      "count  50000.000000  50000.000000  50000.000000  50000.000000\n",
      "mean      13.882040      2.325813      0.442890     19.776047\n",
      "std       12.368066      2.922266      1.778999     15.302081\n",
      "min     -130.000000     -2.200000    -21.620000   -151.920000\n",
      "25%        7.000000      0.000000      0.000000     11.750000\n",
      "50%       10.500000      1.960000      0.000000     15.340000\n",
      "75%       16.000000      3.060000      0.000000     21.360000\n",
      "max      432.000000    139.000000     37.000000    432.800000\n"
     ]
    }
   ],
   "source": [
    "columns_of_interest = ['fare_amount', 'tip_amount', 'tolls_amount', 'total_amount']\n",
    "summary_stats = df[columns_of_interest].describe()\n",
    "print(\"\\nSummary Statistics:\")\n",
    "print(summary_stats)"
   ]
  },
  {
   "cell_type": "markdown",
   "metadata": {},
   "source": [
    "4. Buatlah *scatter plot,joint plot dan scatter plot* dengan legenda untuk petal length dan petal width"
   ]
  },
  {
   "cell_type": "code",
   "execution_count": 4,
   "metadata": {},
   "outputs": [
    {
     "name": "stdout",
     "output_type": "stream",
     "text": [
      "\n",
      "Tabel untuk perjalanan terpanjang:\n",
      "fare_amount      300.0\n",
      "tip_amount        45.0\n",
      "tolls_amount     15.86\n",
      "total_amount    361.16\n",
      "Name: 33650, dtype: object\n"
     ]
    }
   ],
   "source": [
    "longest_trip = df.loc[df['trip_distance'].idxmax()]\n",
    "print(\"\\nTabel untuk perjalanan terpanjang:\")\n",
    "print(longest_trip[columns_of_interest])"
   ]
  },
  {
   "cell_type": "markdown",
   "metadata": {},
   "source": [
    "5. Buatlah scatter plot, joint plot dan scatter plot dengan legenda untuk **petal length dan petal width**\n",
    " "
   ]
  },
  {
   "cell_type": "code",
   "execution_count": 5,
   "metadata": {},
   "outputs": [],
   "source": [
    "plt.figure(figsize=(10, 6))\n",
    "plt.scatter(df['trip_distance'], df['total_amount'])\n",
    "plt.xlabel('Trip Distance')\n",
    "plt.ylabel('Total Amount')\n",
    "plt.title('Scatter Plot: Trip Distance vs Total Amount')\n",
    "plt.savefig('scatter_plot.png')\n",
    "plt.close()\n",
    "\n",
    "sns.jointplot(x='trip_distance', y='total_amount', data=df, kind='scatter')\n",
    "plt.savefig('joint_plot.png')\n",
    "plt.close()\n",
    "\n",
    "plt.figure(figsize=(10, 6))\n",
    "sns.scatterplot(x='trip_distance', y='total_amount', hue='payment_type', data=df)\n",
    "plt.xlabel('Trip Distance')\n",
    "plt.ylabel('Total Amount')\n",
    "plt.title('Scatter Plot: Trip Distance vs Total Amount (with Payment Type)')\n",
    "plt.savefig('scatter_plot_with_legend.png')\n",
    "plt.close()"
   ]
  },
  {
   "cell_type": "markdown",
   "metadata": {},
   "source": [
    "6. Buatlah boxplot dan strip plot untuk **PetalWidthCm**"
   ]
  },
  {
   "cell_type": "code",
   "execution_count": 6,
   "metadata": {},
   "outputs": [
    {
     "name": "stdout",
     "output_type": "stream",
     "text": [
      "Semua plot telah disimpan sebagai file gambar.\n"
     ]
    }
   ],
   "source": [
    "plt.figure(figsize=(10, 6))\n",
    "sns.boxplot(x='payment_type', y='total_amount', data=df)\n",
    "plt.xlabel('Payment Type')\n",
    "plt.ylabel('Total Amount')\n",
    "plt.title('Box Plot: Total Amount by Payment Type')\n",
    "plt.savefig('box_plot.png')\n",
    "plt.close()\n",
    "\n",
    "plt.figure(figsize=(10, 6))\n",
    "sns.stripplot(x='payment_type', y='total_amount', data=df, jitter=True)\n",
    "plt.xlabel('Payment Type')\n",
    "plt.ylabel('Total Amount')\n",
    "plt.title('Strip Plot: Total Amount by Payment Type')\n",
    "plt.savefig('strip_plot.png')\n",
    "plt.close()\n",
    "\n",
    "print(\"Semua plot telah disimpan sebagai file gambar.\")"
   ]
  },
  {
   "cell_type": "markdown",
   "metadata": {},
   "source": [
    "## Hasil Statistics\n",
    "\n",
    "\n",
    "**Scatter Plot**\n",
    "<img src=\"../Assigment-Data-Analysis/scatter_plot.png\">\n",
    "--\n",
    "**Joint Plot**\n",
    "<img src=\"../Assigment-Data-Analysis/joint_plot.png\">\n",
    "--\n",
    "**Scatter Plot with Legend**\n",
    "<img src=\"../Assigment-Data-Analysis/scatter_plot_with_legend.png\">\n",
    "--\n",
    "\n",
    "## Hasil Statistics Nomor 6\n",
    "\n",
    "**Box Plot**\n",
    "<img src=\"../Assigment-Data-Analysis/box_plot.png\">\n",
    "--\n",
    "**Strip Plot**\n",
    "<img src=\"../Assigment-Data-Analysis/strip_plot.png\">\n",
    "--"
   ]
  },
  {
   "cell_type": "markdown",
   "metadata": {},
   "source": [
    "Akses ke Repository bisa menggunakan [link disini](https://github.com/Cortana-Coders/AICI-Tasks/ \"link github\") atau bisa menggunakan **QR Code** dibawah ini.\n",
    "\n",
    "<center><img src=\"../Image/QR-Github.png\" width=60% alt = \"QR Code\"></center>\n",
    "\n",
    "\n",
    "\n",
    "\n",
    "\n",
    "\n",
    "### TERIMA KASIH👍"
   ]
  }
 ],
 "metadata": {
  "kernelspec": {
   "display_name": "base",
   "language": "python",
   "name": "python3"
  },
  "language_info": {
   "codemirror_mode": {
    "name": "ipython",
    "version": 3
   },
   "file_extension": ".py",
   "mimetype": "text/x-python",
   "name": "python",
   "nbconvert_exporter": "python",
   "pygments_lexer": "ipython3",
   "version": "3.12.4"
  }
 },
 "nbformat": 4,
 "nbformat_minor": 2
}
