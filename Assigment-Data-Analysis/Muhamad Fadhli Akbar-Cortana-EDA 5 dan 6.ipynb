{
 "cells": [
  {
   "cell_type": "markdown",
   "metadata": {},
   "source": [
    "## Muhamad Fadhli Akbar(Cortana)\n",
    "\n",
    "### Assignment EDA 5 & 6\n",
    "\n",
    "Jika **file code & gambar** tidak bisa diakses, bisa menggunakan link repository yang bisa diakses dengan menggunakan [link ini](https://github.com/Cortana-Coders/AICI-Tasks/blob/main/Assigment-Data-Analysis/Muhamad%20Fadhli%20Akbar-Cortana-EDA%205%20dan%206.ipynb \"link github\")"
   ]
  },
  {
   "cell_type": "markdown",
   "metadata": {},
   "source": [
    "1. Menentukan apakah kejadian berikut adalah no error, false positive, atau false negative.\n",
    "- Pencuri ditangkap dan dihukum:\n",
    "   Menurutku hasilnya adalah **no error**, karena hasilnya benar (pencuri yang melakukan kejahatan ditangkap dan dihukum) jadi **No Error**.\n",
    "\n",
    "- Menghilangkan ATK teman namun tidak dikembalikan dan tidak ketahuan: \n",
    "   Hasilnya adalah **false negative**, karena tindakan kejahatan terjadi, akan tetapi tidak terdeteksi (tidak ketahuan).\n",
    "\n",
    "- Sudah membayar makanan namun dituduh belum: \n",
    "   Hasilnya adalah **false positive**, karena orang tersebut sebenarnya tidak bersalah (sudah membayar), tetapi dituduh melakukan kesalahan (belum membayar).\n",
    "\n",
    "- Dinyatakan sakit tipes namun sebenarnya demam berdarah: \n",
    "   Ini adalah **false positive**, karena diagnosisnya salah (positif tipes, tetapi sebenarnya demam berdarah).\n",
    "\n",
    "---\n",
    "\n",
    "2. Menghitung Z-statistics untuk 2 koin:\n",
    "Diketahui:\n",
    "- HH (Heads-Heads) = 30\n",
    "- HT/TH (Heads-Tails / Tails-Heads) = 58\n",
    "- TT (Tails-Tails) = 12\n",
    "- Jumlah total pelemparan = 100\n",
    "\n",
    "Untuk menghitung Z-statistics, kita perlu membandingkan probabilitas observasi dengan probabilitas ekspektasi berdasarkan distribusi normal.\n",
    "\n",
    "Langkah-langkah:\n",
    "1. Hitung probabilitas ekspektasi untuk masing-masing kombinasi (HH, HT/TH, TT) jika kedua koin adil.\n",
    "   - Probabilitas HH (keduanya head) adalah \\( P(HH) = \\frac{1}{4} \\) dari total pelemparan.\n",
    "   - Probabilitas HT/TH (satu head, satu tails) adalah \\( P(HT/TH) = \\frac{1}{2} \\).\n",
    "   - Probabilitas TT (keduanya tails) adalah \\( P(TT) = \\frac{1}{4} \\).\n",
    "\n",
    "2. Hitung Z-statistics dengan formula:  \n",
    "   \\[\n",
    "   Z = \\frac{X - \\mu}{\\sigma}\n",
    "   \\]\n",
    "   di mana:\n",
    "   - \\( X \\) adalah nilai observasi (frekuensi HH, HT/TH, atau TT),\n",
    "   - \\( \\mu \\) adalah nilai ekspektasi (\\( P \\times \\text{total pelemparan} \\)),\n",
    "   - \\( \\sigma \\) adalah standar deviasi (\\( \\sqrt{P \\times (1 - P) \\times N} \\)).\n",
    "\n",
    "Saya akan menghitung Z-statistics untuk ketiga kombinasi ini.\n",
    "\n",
    "Nilai Z-statistics untuk masing-masing kombinasi adalah:\n",
    "\n",
    "- **Z untuk HH (Heads-Heads):** 1.15\n",
    "- **Z untuk HT/TH (Heads-Tails atau Tails-Heads):** 1.6\n",
    "- **Z untuk TT (Tails-Tails):** -3.00\n",
    "\n",
    "---\n",
    "\n",
    "3. Titanic Statistics: Mengisi data null pada kolom umur dengan median dan modus:\n",
    "\n",
    "Untuk melakukan ini, kita bisa menggunakan pandas dalam Python:\n",
    "\n",
    "1. Buat kolom baru bernama `age_median` yang diisi dengan nilai median dari kolom umur.\n",
    "2. Buat kolom baru bernama `age_modus` yang diisi dengan nilai modus dari kolom umur."
   ]
  },
  {
   "cell_type": "code",
   "execution_count": 3,
   "metadata": {},
   "outputs": [],
   "source": [
    "import pandas as pd\n",
    "\n",
    "df = pd.read_csv('titanic_data.csv')\n",
    "\n",
    "df['age_median'] = df['Age'].fillna(df['Age'].median())\n",
    "df['age_modus'] = df['Age'].fillna(df['Age'].mode()[0])\n",
    "\n",
    "# Simpan hasil ke dalam file baru\n",
    "df.to_csv('titanic_filled.csv', index=False)\n"
   ]
  }
 ],
 "metadata": {
  "kernelspec": {
   "display_name": "base",
   "language": "python",
   "name": "python3"
  },
  "language_info": {
   "codemirror_mode": {
    "name": "ipython",
    "version": 3
   },
   "file_extension": ".py",
   "mimetype": "text/x-python",
   "name": "python",
   "nbconvert_exporter": "python",
   "pygments_lexer": "ipython3",
   "version": "3.12.4"
  }
 },
 "nbformat": 4,
 "nbformat_minor": 2
}
