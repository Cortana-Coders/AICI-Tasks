{
 "cells": [
  {
   "cell_type": "markdown",
   "metadata": {},
   "source": [
    "## Muhamad Fadhli Akbar(Cortana)\n",
    "\n"
   ]
  },
  {
   "cell_type": "markdown",
   "metadata": {},
   "source": [
    "1. Tentukan apakah kejadian dibawah ini no error, false positive atau false negative\n",
    "\n",
    "- Pencuri ditangkap dan dihukum \n",
    "- Menghilangkan atk teman namun tidak dikembalikan dan tidak ketahuan \n",
    "- Sudah membayar makanan namun dituduh belum \n",
    "- Dinyatakan sakit tipes namun sebenarnya demam berdarah"
   ]
  },
  {
   "cell_type": "code",
   "execution_count": null,
   "metadata": {},
   "outputs": [],
   "source": [
    "print(\"a\")"
   ]
  },
  {
   "cell_type": "markdown",
   "metadata": {},
   "source": [
    "2. Lakukan perhitungan z statistics untuk 2 koin dimana didapatkan\n",
    "HH = 30, HT/TH = 58, TT = 12\n",
    "(H = Heads, T = Tails) dimana jumlah pelemparan = 100. Dapatkan nilai Z untuk masing masing \n",
    "kombinasi (HH, HT/TH, dan TT)"
   ]
  }
 ],
 "metadata": {
  "kernelspec": {
   "display_name": "base",
   "language": "python",
   "name": "python3"
  },
  "language_info": {
   "name": "python",
   "version": "3.12.4"
  }
 },
 "nbformat": 4,
 "nbformat_minor": 2
}
