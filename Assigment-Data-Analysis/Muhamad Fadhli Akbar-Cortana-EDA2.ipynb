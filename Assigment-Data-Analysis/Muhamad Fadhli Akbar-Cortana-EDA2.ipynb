{
 "cells": [
  {
   "cell_type": "markdown",
   "metadata": {},
   "source": [
    "## Exploratory Data Analysis\n",
    "### Assigment 2 About Numpy\n",
    "\n",
    "**Muhamad Fadhli Akbar-Cortana**"
   ]
  },
  {
   "cell_type": "markdown",
   "metadata": {},
   "source": [
    "1. Buatlah program Numpy dimana didapatkan vektor dengan panjang 10 dan angkanya enyebar merata antara 5 sampai 50 "
   ]
  },
  {
   "cell_type": "code",
   "execution_count": 2,
   "metadata": {},
   "outputs": [
    {
     "name": "stdout",
     "output_type": "stream",
     "text": [
      "[47.53109684 29.79757508  9.17992343 30.87626876 45.1714927  20.82067406\n",
      " 22.84457822 45.89761436 49.18299755 39.53583152]\n"
     ]
    }
   ],
   "source": [
    "import numpy as np\n",
    "\n",
    "vektor = np.random.uniform(5, 50, 10)\n",
    "print(vektor)"
   ]
  },
  {
   "cell_type": "markdown",
   "metadata": {},
   "source": [
    "2. Buatlah matriks identitas 3x3 dimana nilai diagonal = 1, sisanya 0 "
   ]
  },
  {
   "cell_type": "code",
   "execution_count": 8,
   "metadata": {},
   "outputs": [
    {
     "name": "stdout",
     "output_type": "stream",
     "text": [
      "[1, 0, 0]\n",
      "[0, 1, 0]\n",
      "[0, 0, 1]\n"
     ]
    }
   ],
   "source": [
    "import numpy as np\n",
    "\n",
    "matrix = [[1 if i == j else 0 for j in range(3)] for i in range(3)]\n",
    "\n",
    "for row in matrix:\n",
    "    print(row)"
   ]
  },
  {
   "cell_type": "markdown",
   "metadata": {},
   "source": [
    "\n",
    "3. Hitunglah rata rata, variansi dan standar deviasi dari x = np.random.randint(10,31, size = (1,5))"
   ]
  },
  {
   "cell_type": "code",
   "execution_count": 3,
   "metadata": {},
   "outputs": [
    {
     "name": "stdout",
     "output_type": "stream",
     "text": [
      "Rata-rata:  25.4\n",
      "Variansi:  10.24\n",
      "Standar Deviasi:  3.2\n"
     ]
    }
   ],
   "source": [
    "import numpy as np\n",
    "\n",
    "x = np.random.randint(10, 31, size=(1, 5))\n",
    "\n",
    "rata_rata = np.mean(x)\n",
    "variansi = np.var(x)\n",
    "standar_deviasi = np.std(x)\n",
    "\n",
    "print(\"Rata-rata: \", rata_rata)\n",
    "print(\"Variansi: \", variansi)\n",
    "print(\"Standar Deviasi: \", standar_deviasi)"
   ]
  },
  {
   "cell_type": "markdown",
   "metadata": {},
   "source": [
    "4.  Hitunglah  nilai  rata  rata  dari  2  array  numpy  dimana  arr1  =  np.array([3,4])  dan  arr2  = np.array([1,0]) "
   ]
  },
  {
   "cell_type": "code",
   "execution_count": 4,
   "metadata": {},
   "outputs": [
    {
     "name": "stdout",
     "output_type": "stream",
     "text": [
      "Rata-rata setiap elemen: [2. 2.]\n",
      "Rata-rata keseluruhan: 2.0\n"
     ]
    }
   ],
   "source": [
    "array_1 = np.array([3, 4])\n",
    "array_2 = np.array([1, 0])\n",
    "\n",
    "rata_rata_elemen = (array_1 + array_2) / 2\n",
    "print(\"Rata-rata setiap elemen:\", rata_rata_elemen)\n",
    "\n",
    "rata_rata_keseluruhan = np.mean(np.concatenate((array_1, array_2)))\n",
    "print(\"Rata-rata keseluruhan:\", rata_rata_keseluruhan)"
   ]
  },
  {
   "cell_type": "markdown",
   "metadata": {},
   "source": [
    "5. Hitunglah akar pada vektor yang dihasilkan dari pertanyaan **nomor 1**"
   ]
  },
  {
   "cell_type": "code",
   "execution_count": 7,
   "metadata": {},
   "outputs": [
    {
     "name": "stdout",
     "output_type": "stream",
     "text": [
      "Akar Vektor:  [2.9070162  4.02604367 3.02288673 5.21447684 4.1794018  6.50139089\n",
      " 6.17728979 2.28615107 4.53159885 5.48005452]\n"
     ]
    }
   ],
   "source": [
    "import numpy as np\n",
    "\n",
    "# Vektor soal pertama\n",
    "vektor = np.random.uniform(5, 50, 10)\n",
    "\n",
    "akar_vektor = np.sqrt(vektor)\n",
    "print(\"Akar Vektor: \", akar_vektor)"
   ]
  },
  {
   "cell_type": "markdown",
   "metadata": {},
   "source": [
    "Link Github bisa diakses dengan cara mengklik [link ini](https://github.com/Cortana-Coders/AICI-Tasks/ \"link github\")"
   ]
  }
 ],
 "metadata": {
  "kernelspec": {
   "display_name": "base",
   "language": "python",
   "name": "python3"
  },
  "language_info": {
   "codemirror_mode": {
    "name": "ipython",
    "version": 3
   },
   "file_extension": ".py",
   "mimetype": "text/x-python",
   "name": "python",
   "nbconvert_exporter": "python",
   "pygments_lexer": "ipython3",
   "version": "3.12.4"
  }
 },
 "nbformat": 4,
 "nbformat_minor": 2
}
