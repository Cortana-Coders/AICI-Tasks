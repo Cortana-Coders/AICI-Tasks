{
 "cells": [
  {
   "cell_type": "markdown",
   "metadata": {},
   "source": [
    "# Why Clean Code?\n",
    "\n",
    "Writing clean code is essential for many reasons:\n",
    "\n",
    "- Readability: Clean code is easy to read, which helps other developers understand your code quickly.\n",
    "- Maintainability: If your code is clean, it's easier to update, debug, and improve.\n",
    "- Collaboration: Clean code is essential for teamwork, especially when sharing code with others or working on large projects.\n",
    "- Error Prevention: When your code is clean and organized, you're less likely to introduce bugs. Now, let’s explore some best practices that will help you write cleaner code in Python.\n",
    "---\n",
    "\n"
   ]
  },
  {
   "cell_type": "markdown",
   "metadata": {},
   "source": [
    "### Use Meaningful Variable and Function Names\n",
    "\n",
    "One of the easiest ways to improve code readability is by using clear and meaningful names for variables and functions. Avoid single-letter or cryptic names like x, y, or foo."
   ]
  },
  {
   "cell_type": "code",
   "execution_count": 4,
   "metadata": {},
   "outputs": [],
   "source": [
    "# Bad example\n",
    "def calc(x, y):\n",
    "    return x + y\n",
    "\n",
    "# Good example\n",
    "def calculate_total_price(item_price, tax):\n",
    "    return item_price + tax\n",
    "\n",
    "# In the second example, it's easy to understand what the function does just by looking at the function name and variable names."
   ]
  },
  {
   "cell_type": "markdown",
   "metadata": {},
   "source": [
    "### Ternary Operators\n",
    "Break your code into smaller, manageable functions. Each function should do one specific task, making it easier to read, test, and debug."
   ]
  },
  {
   "cell_type": "code",
   "execution_count": 3,
   "metadata": {},
   "outputs": [
    {
     "name": "stdout",
     "output_type": "stream",
     "text": [
      "Father is older than the mother\n"
     ]
    }
   ],
   "source": [
    "# Use ternary operators\n",
    "mothersAge = 32 #32 years old\n",
    "fathersAge = 35 ## 35 years old\n",
    "\n",
    "# Don't do this\n",
    "\"\"\"\n",
    "if fathersAge > mothersAge:\n",
    "    print(\"Father is older than the mother\")\n",
    "else:\n",
    "    print(\"Mother is older than the father\")\n",
    "\"\"\"\n",
    "\n",
    "# Do this\n",
    "whoIsOlder = \"Father is older than the mother\" if fathersAge > mothersAge else \"Mother is older than the father\"\n",
    "print(whoIsOlder)"
   ]
  },
  {
   "cell_type": "markdown",
   "metadata": {},
   "source": [
    "### Write Modular Code\n",
    "Break your code into smaller, manageable functions. Each function should do one specific task, making it easier to read, test, and debug."
   ]
  },
  {
   "cell_type": "code",
   "execution_count": 5,
   "metadata": {},
   "outputs": [],
   "source": [
    "# Don't do this\n",
    "def process_order(customer, items):\n",
    "    total_price = 0\n",
    "    for item in items:\n",
    "        total_price += item['price']\n",
    "    if total_price > 100:\n",
    "        discount = total_price * 0.1\n",
    "        total_price -= discount\n",
    "    # Send email\n",
    "    print(f\"Order confirmed for {customer['name']}\")\n",
    "    return total_price\n",
    "\n",
    "# Instead This\n",
    "def calculate_total_price(items):\n",
    "    return sum(item['price'] for item in items)\n",
    "\n",
    "def apply_discount(total_price):\n",
    "    if total_price > 100:\n",
    "        return total_price * 0.9\n",
    "    return total_price\n",
    "\n",
    "def send_confirmation_email(customer):\n",
    "    print(f\"Order confirmed for {customer['name']}\")\n",
    "\n",
    "def process_order(customer, items):\n",
    "    total_price = calculate_total_price(items)\n",
    "    total_price = apply_discount(total_price)\n",
    "    send_confirmation_email(customer)\n",
    "    return total_price\n",
    "\n",
    "# In the improved example, the code is split into smaller functions, making it easier to understand and maintain"
   ]
  },
  {
   "cell_type": "markdown",
   "metadata": {},
   "source": [
    "### Use List Comprehensions for Simplicity\n",
    "List comprehensions in Python provide a concise way to create lists. Using them can make your code cleaner and more readable."
   ]
  },
  {
   "cell_type": "code",
   "execution_count": 6,
   "metadata": {},
   "outputs": [],
   "source": [
    "# Without list comprehension\n",
    "squares = []\n",
    "for x in range(10):\n",
    "    squares.append(x ** 2)\n",
    "\n",
    "# With list comprehension\n",
    "squares = [x ** 2 for x in range(10)]\n",
    "\n",
    "# The second example is shorter and easier to read.\n"
   ]
  },
  {
   "cell_type": "markdown",
   "metadata": {},
   "source": [
    "### "
   ]
  },
  {
   "cell_type": "code",
   "execution_count": null,
   "metadata": {},
   "outputs": [],
   "source": [
    "# Bad example\n",
    "def calculate_discount(price):\n",
    "    return price * 0.1  # Discount is hardcoded\n",
    "\n",
    "# Good example\n",
    "DISCOUNT_RATE = 0.1\n",
    "\n",
    "def calculate_discount(price):\n",
    "    return price * DISCOUNT_RATE\n",
    "\n",
    "# In the second example, the discount rate is stored in a constant, making it easier to change if needed."
   ]
  },
  {
   "cell_type": "markdown",
   "metadata": {},
   "source": [
    "### Add Comments and Docstrings\n",
    "\n",
    "While clean code should be self-explanatory, adding comments and docstrings can help explain the purpose of complex functions or algorithms.\n",
    "\n",
    "Comments: Explain why a particular approach is used.\n",
    "Docstrings: Describe what a function does and its parameters. "
   ]
  },
  {
   "cell_type": "code",
   "execution_count": 8,
   "metadata": {},
   "outputs": [],
   "source": [
    "def find_largest_number(numbers):\n",
    "    \"\"\"\n",
    "    Find the largest number in a list.\n",
    "\n",
    "    Args:\n",
    "    numbers (list): A list of numbers.\n",
    "\n",
    "    Returns:\n",
    "    int: The largest number.\n",
    "    \"\"\"\n",
    "    return max(numbers)\n",
    "\n",
    "# The docstring helps other developers understand how to use the function without needing to read the entire code."
   ]
  },
  {
   "cell_type": "markdown",
   "metadata": {},
   "source": [
    "### Handle Errors Gracefully\n",
    "\n",
    "Always handle exceptions using try and except blocks to prevent your program from crashing. You should also provide informative error messages to make debugging easier."
   ]
  },
  {
   "cell_type": "code",
   "execution_count": null,
   "metadata": {},
   "outputs": [
    {
     "name": "stdout",
     "output_type": "stream",
     "text": [
      "<function divide_numbers at 0x0000029FF8B72020>\n"
     ]
    }
   ],
   "source": [
    "# Bad example\n",
    "def divide_numbers(a, b):\n",
    "    return a / b\n",
    "\n",
    "# Good example\n",
    "def divide_numbers(a, b):\n",
    "    try:\n",
    "        return a / b\n",
    "    except ZeroDivisionError:\n",
    "        return \"Error: Cannot divide by zero\"\n",
    "\n",
    "# The second example prevents a crash and provides a helpful error message."
   ]
  },
  {
   "cell_type": "markdown",
   "metadata": {},
   "source": [
    "### Credit:\n",
    "\n",
    "[How to write clean code in python best practices guide](https://dev.to/codewithfaraz/how-to-write-clean-code-in-python-best-practices-guide-2m68 \"Clean Code with Python\")\n",
    "\n",
    "[Clean code]()"
   ]
  }
 ],
 "metadata": {
  "kernelspec": {
   "display_name": "base",
   "language": "python",
   "name": "python3"
  },
  "language_info": {
   "codemirror_mode": {
    "name": "ipython",
    "version": 3
   },
   "file_extension": ".py",
   "mimetype": "text/x-python",
   "name": "python",
   "nbconvert_exporter": "python",
   "pygments_lexer": "ipython3",
   "version": "3.12.4"
  }
 },
 "nbformat": 4,
 "nbformat_minor": 2
}
