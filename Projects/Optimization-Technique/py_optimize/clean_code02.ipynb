{
 "cells": [
  {
   "cell_type": "code",
   "execution_count": 4,
   "metadata": {},
   "outputs": [
    {
     "name": "stdout",
     "output_type": "stream",
     "text": [
      "1\n",
      "2\n",
      "3\n",
      "4\n",
      "5\n",
      "nanas\n",
      "apple\n",
      "cucumber\n",
      "egg plant\n",
      "strawberry\n",
      "The count is: 1\n",
      "The count is: 2\n",
      "The count is: 3\n"
     ]
    }
   ],
   "source": [
    "numbers = [1,2,3,4,5]\n",
    "fruits = [\"nanas\", \"apple\", \"cucumber\", \"egg plant\", \"strawberry\"]\n",
    "\n",
    "for i in numbers:\n",
    "    print(i)\n",
    "\n",
    "for foods in fruits:\n",
    "    print(foods)\n",
    "\n",
    "count = 0\n",
    "while (count < 3):\n",
    "    # print(\"The count is: \", count+1)\n",
    "    print(f\"The count is: {count+1}\")\n",
    "    count += 1\n"
   ]
  },
  {
   "cell_type": "code",
   "execution_count": 6,
   "metadata": {},
   "outputs": [
    {
     "name": "stdout",
     "output_type": "stream",
     "text": [
      "your full name is Muhamad fadhli akbar\n",
      "Decode your full name <built-in method isalpha of str object at 0x0000018AB0E1ECB0>\n"
     ]
    }
   ],
   "source": [
    "fullName = \"muhamad fadhli akbar\"\n",
    "\n",
    "print(f\"your full name is {fullName.capitalize()}\")\n",
    "print(f\"Decode your full name {fullName.isalpha}\")"
   ]
  }
 ],
 "metadata": {
  "kernelspec": {
   "display_name": "base",
   "language": "python",
   "name": "python3"
  },
  "language_info": {
   "codemirror_mode": {
    "name": "ipython",
    "version": 3
   },
   "file_extension": ".py",
   "mimetype": "text/x-python",
   "name": "python",
   "nbconvert_exporter": "python",
   "pygments_lexer": "ipython3",
   "version": "3.12.4"
  }
 },
 "nbformat": 4,
 "nbformat_minor": 2
}
