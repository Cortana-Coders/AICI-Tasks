{
 "cells": [
  {
   "cell_type": "markdown",
   "metadata": {},
   "source": [
    "## Muhamad Fadhli Akbar(Cortana)\n",
    "### **Assignment 5**\n",
    "\n",
    "Link Github pribadi bisa di akses [disini](https://github.com/Cortana-Coders/AICI-Tasks/ \"link github\")"
   ]
  },
  {
   "cell_type": "markdown",
   "metadata": {},
   "source": [
    "**QUIZ STRING**"
   ]
  },
  {
   "cell_type": "code",
   "execution_count": 1,
   "metadata": {},
   "outputs": [
    {
     "name": "stdout",
     "output_type": "stream",
     "text": [
      "Python Is Great\n"
     ]
    }
   ],
   "source": [
    "# Question 1\n",
    "def only_first_letters(text):\n",
    "  \"\"\"Converts the first letter of each word to uppercase and the rest to lowercase.\"\"\"\n",
    "  return ' '.join(word.capitalize() for word in text.split())\n",
    "\n",
    "proper_text = only_first_letters('pyThon iS grEAt')\n",
    "print(proper_text)"
   ]
  },
  {
   "cell_type": "code",
   "execution_count": 2,
   "metadata": {},
   "outputs": [
    {
     "data": {
      "text/plain": [
       "1"
      ]
     },
     "execution_count": 2,
     "metadata": {},
     "output_type": "execute_result"
    }
   ],
   "source": [
    "# Question 2\n",
    "def count_the_letter(text, letter):\n",
    "  \"\"\"Counts the occurrences of a letter in a text.\"\"\"\n",
    "  return text.count(letter.lower())\n",
    "\n",
    "text = input('Please enter a text: ')\n",
    "letter = input('Now a letter: ')\n",
    "count_the_letter(text, letter)\n"
   ]
  },
  {
   "cell_type": "code",
   "execution_count": 4,
   "metadata": {},
   "outputs": [],
   "source": [
    "# Question 3\n",
    "def count_letters():\n",
    "  \"\"\"Prompts the user for a sentence and prints the occurrence count of each letter.\"\"\"\n",
    "  sentence = input(\"Please enter a sentence: \").lower()\n",
    "  for letter in set(sentence):\n",
    "    if letter.isalpha():  # Check if character is alphabetic (letter)\n",
    "      count = count_the_letter(sentence, letter)\n",
    "      print(f\"letter {letter}: {count} time(s)\")\n",
    "\n",
    "\n",
    "count_letters()"
   ]
  },
  {
   "cell_type": "code",
   "execution_count": null,
   "metadata": {},
   "outputs": [],
   "source": [
    "# Question 4\n",
    "text = 'Monday Tuesday Wednesday Thursday Friday'\n",
    "\n",
    "def text_slicing(text):\n",
    "  # Find the first 3 chars\n",
    "  first_three = text[:3]\n",
    "  print(f\"First 3 characters: {first_three}\")\n",
    "\n",
    "  between_7_10 = text[7:11]\n",
    "  print(f\"Characters between index 7 and 10 (inclusive): {between_7_10}\")\n",
    "\n",
    "  between_2_12 = text[2:12]\n",
    "  print(f\"Characters between index 2 and 12 (exclusive): {between_2_12}\")\n",
    "\n",
    "  chars_at_3_4_5 = text[3:6]\n",
    "  print(f\"Characters at indices 3, 4 and 5: {chars_at_3_4_5}\")\n",
    "\n"
   ]
  },
  {
   "cell_type": "code",
   "execution_count": 15,
   "metadata": {},
   "outputs": [],
   "source": [
    "# Question 5\n",
    "text = 'Monday Tuesday Wednesday'\n",
    "\n",
    "def reverse_text(text):\n",
    "  last_char = text[-1]\n",
    "  print(f\"Last character: {last_char}\")\n",
    "\n",
    "  third_from_last = text[-3]\n",
    "  print(f\"3rd character from last: {third_from_last}\")\n",
    "\n",
    "  last_three = text[-3:]\n",
    "  print(f\"Last 3 characters: {last_three}\")\n",
    "\n",
    "  reversed_text = text[::-1]\n",
    "  print(f\"Text in reverse order: {reversed_text}\")"
   ]
  },
  {
   "cell_type": "code",
   "execution_count": 18,
   "metadata": {},
   "outputs": [
    {
     "name": "stdout",
     "output_type": "stream",
     "text": [
      "Please enter an email:  fadhliakbar@acme.corp\n",
      "User Name: fadhli\n",
      "Domain: yaya.corp\n"
     ]
    }
   ],
   "source": [
    "# Question 6\n",
    "def split_email():\n",
    "    \"\"\"Prompts for an email, splits it into username and domain, and validates format.\"\"\"\n",
    "    email = input(\"Please enter an email: \")\n",
    "    if '@' not in email:\n",
    "        return \"Invalid email format.\"\n",
    "\n",
    "    username, domain = email.split('@')\n",
    "    print(f\"User Name: {username}\")\n",
    "    print(f\"Domain: {domain}\")\n",
    "\n",
    "def text_slicing(text):\n",
    "    \"\"\"Prints the words in the text one by one.\"\"\"\n",
    "    words = text.split()\n",
    "    for word in words:\n",
    "        print(word)\n",
    "\n",
    "def reverse_text(text):\n",
    "    \"\"\"Reverses and prints the provided text.\"\"\"\n",
    "    reversed_text = text[::-1]\n",
    "    print(reversed_text)\n",
    "\n",
    "text_1 = \"Monday Tuesday Wednesday Thursday Friday\"\n",
    "text_slicing(text_1)\n",
    "\n",
    "text_2 = \"Monday Tuesday Wednesday\"\n",
    "reverse_text(text_2)\n",
    "\n",
    "split_email()"
   ]
  },
  {
   "cell_type": "code",
   "execution_count": 20,
   "metadata": {},
   "outputs": [
    {
     "name": "stdout",
     "output_type": "stream",
     "text": [
      "Please enter a sentence:  yesterday came suddenly\n",
      "ylneddus emac yadretsey\n"
     ]
    }
   ],
   "source": [
    "# Question 8\n",
    "\n",
    "def reverse(sentence):\n",
    "  \"\"\"Reverses the given sentence.\"\"\"\n",
    "  return sentence[::-1]\n",
    "\n",
    "sentence = input(\"Please enter a sentence: \")\n",
    "\n",
    "print(reverse(sentence))"
   ]
  },
  {
   "cell_type": "markdown",
   "metadata": {},
   "source": [
    "**QUIZ STRING FORMATTING**"
   ]
  },
  {
   "cell_type": "code",
   "execution_count": 10,
   "metadata": {},
   "outputs": [
    {
     "name": "stdout",
     "output_type": "stream",
     "text": [
      "Sunday has 6 letters.\n",
      "day: Sunday, length: 6\n",
      "day: Sunday, length: 6\n",
      "The capital city of Germany is Berlin\n",
      "The capital city of Germany is Berlin\n"
     ]
    }
   ],
   "source": [
    "# Question 1-5\n",
    "\"\"\"\n",
    "Use the capitals dictionary and f-strings to print as follows:\n",
    "\"The capital city of UK is London\"\n",
    "Both 'UK' and 'London' will be variables.\n",
    "\"\"\"\n",
    "\n",
    "def day_names(day):\n",
    "  \"\"\"Returns a tuple containing the day name and its length.\"\"\"\n",
    "  return day, len(day)\n",
    "\n",
    "result = day_names(\"Sunday\")\n",
    "print(\"Sunday has %d letters.\" % result[1])\n",
    "\n",
    "\"\"\"\n",
    "Call the function in Q1 and print the result with str.format() as follows:\n",
    "'day: Monday, length: 6'\n",
    "\n",
    "Hints:\n",
    "•\tuse str.format()\n",
    "\"\"\"\n",
    "print(\"day: {}, length: {}\".format(result[0], result[1]))\n",
    "\n",
    "\"\"\"\n",
    "Call the function in Q1 and print the result with f-strings as follows:\n",
    "'day: Monday, length: 6'\n",
    "\n",
    "Hints:\n",
    "•\tuse f-string\n",
    "\"\"\"\n",
    "print(f\"day: {result[0]}, length: {result[1]}\")\n",
    "\n",
    "\"\"\"\n",
    "Use the capitals dictionary and str.format() to print as follows:\n",
    "\"The capital city of Germany is Berlin\"\n",
    "Both 'Germany' and 'Berlin' will be variables.\n",
    "\"\"\"\n",
    "capitals = {\"Germany\": \"Berlin\", \"UK\": \"London\"}\n",
    "country = \"Germany\"\n",
    "capital = capitals[country]\n",
    "print(\"The capital city of {} is {}\".format(country, capital))\n",
    "\n",
    "\"\"\"\n",
    "Use the capitals dictionary and f-strings to print as follows:\n",
    "\"The capital city of UK is London\"\n",
    "Both 'UK' and 'London' will be variables.\n",
    "\"\"\"\n",
    "print(f\"The capital city of {country} is {capital}\")"
   ]
  },
  {
   "cell_type": "markdown",
   "metadata": {},
   "source": [
    "**QUIZ JSON**"
   ]
  },
  {
   "cell_type": "code",
   "execution_count": 9,
   "metadata": {},
   "outputs": [
    {
     "name": "stdout",
     "output_type": "stream",
     "text": [
      "JSON format of the dictionary: {\"key1\": \"value1\", \"key2\": \"value2\"}\n",
      "Value of key2: value2\n",
      "Employee's salary: 3200000\n"
     ]
    }
   ],
   "source": [
    "# Question 1. Convert the following dictionary into JSON format\n",
    "import json\n",
    "\n",
    "data = {\"key1\": \"value1\", \"key2\": \"value2\"}\n",
    "jsonData = json.dumps(data)\n",
    "print(\"JSON format of the dictionary:\", jsonData)\n",
    "\n",
    "sampleJson = '{\"key1\": \"value1\", \"key2\": \"value2\"}'\n",
    "jsonObject = json.loads(sampleJson)\n",
    "value_of_key2 = jsonObject['key2']\n",
    "print(\"Value of key2:\", value_of_key2)\n",
    "\n",
    "employeeData = '''{\n",
    "  \"employee\": {\n",
    "    \"name\": \"Muhamad Fadhli Akbar\",\n",
    "    \"salary\": 3200000,\n",
    "    \"department\": \"Software Enginerring\"\n",
    "  }\n",
    "}'''\n",
    "jsonObject = json.loads(employeeData)\n",
    "salary = jsonObject['employee']['salary']\n",
    "print(\"Employee's salary:\", salary)\n"
   ]
  },
  {
   "cell_type": "markdown",
   "metadata": {},
   "source": [
    "### Terima Kasih\n",
    "\n",
    "\n",
    "<img src=\"https://i.pinimg.com/originals/5e/f6/85/5ef685bcdcb357c32701c15b722df28c.gif\" width=80% alt=\"Pemanis aja\">"
   ]
  }
 ],
 "metadata": {
  "kernelspec": {
   "display_name": "Python 3",
   "language": "python",
   "name": "python3"
  },
  "language_info": {
   "codemirror_mode": {
    "name": "ipython",
    "version": 3
   },
   "file_extension": ".py",
   "mimetype": "text/x-python",
   "name": "python",
   "nbconvert_exporter": "python",
   "pygments_lexer": "ipython3",
   "version": "3.11.3"
  }
 },
 "nbformat": 4,
 "nbformat_minor": 2
}
