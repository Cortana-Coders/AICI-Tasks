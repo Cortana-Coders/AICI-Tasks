{
 "cells": [
  {
   "cell_type": "markdown",
   "metadata": {},
   "source": [
    "## Muhamad Fadhli Akbar - Cortana\n",
    "### **TUGAS 4**"
   ]
  },
  {
   "cell_type": "markdown",
   "metadata": {},
   "source": [
    "<p align=\"center\">\n",
    "<img src=\"https://i.pinimg.com/originals/42/07/d2/4207d2d7729f5dc29cd039df31ca3dcc.gif\" alt=\"Gif Banner\" width=40%>\n",
    "</p>"
   ]
  },
  {
   "cell_type": "markdown",
   "metadata": {},
   "source": [
    "**QUIZ DICTIONARY**"
   ]
  },
  {
   "cell_type": "code",
   "execution_count": 23,
   "metadata": {},
   "outputs": [
    {
     "name": "stdout",
     "output_type": "stream",
     "text": [
      "{'brand': 'Ford', 'model': 'Mustang', 'year': 1964, 'color': 'Red', 'price': 30000, 'km': 89000, 'motor': 1.6}\n",
      "{'brand': 'Ford', 'model': 'Mustang', 'year': 1964, 'color': 'Red', 'price': 30000, 'km': 89000, 'motor': 1.6}\n",
      "{'brand': 'Ford', 'model': 'Mustang', 'year': 1964, 'color': 'Red', 'price': 30000, 'km': 89000, 'motor': 1.6}\n"
     ]
    }
   ],
   "source": [
    "def car_1():\n",
    "    car = {}\n",
    "    car['brand'] = 'Ford'\n",
    "    car['model'] = 'Mustang'\n",
    "    car['year'] = 1964\n",
    "    car['color'] = 'Red'\n",
    "    car['price'] = 30000\n",
    "    car['km'] = 89000\n",
    "    car['motor'] = 1.6\n",
    "    return car\n",
    "\n",
    "\n",
    "def car_2():\n",
    "    car = dict(brand='Ford', model='Mustang', year=1964, color='Red', price=30000, km=89000, motor=1.6)\n",
    "    return car\n",
    "\n",
    "def car_3():\n",
    "    car = {}\n",
    "    car.update(brand='Ford', model='Mustang', year=1964, color='Red', price=30000, km=89000, motor=1.6)\n",
    "    return car\n",
    "\n",
    "print(car_1())\n",
    "print(car_2())\n",
    "print(car_3())"
   ]
  },
  {
   "cell_type": "code",
   "execution_count": 34,
   "metadata": {},
   "outputs": [
    {
     "name": "stdout",
     "output_type": "stream",
     "text": [
      "{'brand': 'Ford', 'model': 'Mustang', 'year': 1964, 'color': 'Red', 'price': 30000, 'km': 89000, 'motor': 1.6, 'brand_2': 'Ford', 'model_2': 'Mustang', 'year_2': 1964, 'color_2': 'Red', 'price_2': 30000, 'km_2': 89000, 'motor_2': 1.6}\n"
     ]
    }
   ],
   "source": [
    "def create_a_new_car():\n",
    "    car = {\n",
    "        'brand': 'Ford',\n",
    "        'model': 'Mustang',\n",
    "        'year': 1964,\n",
    "        'color': 'Red',\n",
    "        'price': 30000,\n",
    "        'km': 89000,\n",
    "        'motor': 1.6\n",
    "    }\n",
    "    \n",
    "    new_car = car.copy()\n",
    "    \n",
    "    for key, value in car.items():\n",
    "        new_key = key + \"_2\"\n",
    "        new_car[new_key] = value\n",
    "    \n",
    "    return new_car\n",
    "\n",
    "new_car_dict = create_a_new_car()\n",
    "print(new_car_dict)\n"
   ]
  },
  {
   "cell_type": "code",
   "execution_count": 26,
   "metadata": {},
   "outputs": [
    {
     "name": "stdout",
     "output_type": "stream",
     "text": [
      "{4: 120, 7: 60, 'A': 'AAA', 'B': 'BBB', True: 'Correct', False: 'Incorrect'}\n"
     ]
    }
   ],
   "source": [
    "# Soal 3\n",
    "def concat_dicts(*dicts):\n",
    "    result = {}\n",
    "    for d in dicts:\n",
    "        result.update(d)\n",
    "    return result\n",
    "\n",
    "d1={4:120, 7:60}\n",
    "d2={'A': 'AAA', 'B':'BBB'}\n",
    "d3={True: 'Correct', False: 'Incorrect'}\n",
    "\n",
    "d = concat_dicts(d1, d2, d3)\n",
    "print(d)"
   ]
  },
  {
   "cell_type": "code",
   "execution_count": 27,
   "metadata": {},
   "outputs": [
    {
     "name": "stdout",
     "output_type": "stream",
     "text": [
      "{'a': 'A', 'c': 'C', 'e': 'E'}\n"
     ]
    }
   ],
   "source": [
    "# Soal 4\n",
    "def delete_odds(dictionary):\n",
    "    new_dict = {}\n",
    "    for index, (key, value) in enumerate(dictionary.items()):\n",
    "        if index % 2 == 0:\n",
    "            new_dict[key] = value\n",
    "    return new_dict\n",
    "\n",
    "dictionary = {'a': 'A', 'b': 'B', 'c': 'C', 'd': 'D', 'e': 'E', 'f': 'F'}\n",
    "evens = delete_odds(dictionary)\n",
    "print(evens)"
   ]
  },
  {
   "cell_type": "code",
   "execution_count": 28,
   "metadata": {},
   "outputs": [
    {
     "name": "stdout",
     "output_type": "stream",
     "text": [
      "{'name': 'John', 'lastname': 'Doe', 'age': 100, 'gender': 'Male'}\n"
     ]
    }
   ],
   "source": [
    "# Soal 5\n",
    "def convert_lists_into_dict(list_1, list_2):\n",
    "    return dict(zip(list_1, list_2))\n",
    "\n",
    "l_1 = ['name', 'lastname', 'age', 'gender']\n",
    "l_2 = ['John', 'Doe', 100, 'Male']\n",
    "employee = convert_lists_into_dict(l_1, l_2)\n",
    "print(employee)"
   ]
  },
  {
   "cell_type": "code",
   "execution_count": 31,
   "metadata": {},
   "outputs": [
    {
     "name": "stdout",
     "output_type": "stream",
     "text": [
      "dictionary before calling alphabetical: {'a': 'A', 'b': 'B', 2: 200, 'd': 'D', 5: 300, 'f': 'F', 1: 50}\n",
      "dictionary after calling alphabetical: {'a': 'A', 'b': 'B', 'd': 'D', 'f': 'F'}\n"
     ]
    }
   ],
   "source": [
    "def alphabetical(dictionary):\n",
    "    for key in list(dictionary.keys()):\n",
    "        if not isinstance(key, str) or not key.isalpha():\n",
    "            dictionary.pop(key)\n",
    "\n",
    "dictionary = {'a': 'A', 'b': 'B', 2: 200, 'd': 'D', 5: 300, 'f': 'F', 1: 50}\n",
    "print(\"dictionary before calling alphabetical:\", dictionary)\n",
    "alphabetical(dictionary)\n",
    "print(\"dictionary after calling alphabetical:\", dictionary)"
   ]
  },
  {
   "cell_type": "markdown",
   "metadata": {},
   "source": [
    "**QUIZ TUPLE**"
   ]
  },
  {
   "cell_type": "code",
   "execution_count": 3,
   "metadata": {},
   "outputs": [
    {
     "name": "stdout",
     "output_type": "stream",
     "text": [
      "(1, 2, 3, 4, 5, 6, 7, 8, 9, 10, 11, 12, 13, 14, 15, 16, 17, 18, 19, 20)\n"
     ]
    }
   ],
   "source": [
    "# soal 1\n",
    "def create_tuple():\n",
    "    t = tuple(range(1, 11))\n",
    "    t += tuple(range(11, 21))\n",
    "    return t\n",
    "t1 = create_tuple()\n",
    "result1 = create_tuple()\n",
    "print(result1)"
   ]
  },
  {
   "cell_type": "code",
   "execution_count": 4,
   "metadata": {},
   "outputs": [
    {
     "name": "stdout",
     "output_type": "stream",
     "text": [
      "Machine Learning\n"
     ]
    }
   ],
   "source": [
    "# Soal 2\n",
    "def tuple_to_string(t):\n",
    "    return ''.join(t)\n",
    "\n",
    "t2 = ('M', 'a', 'c', 'h', 'i', 'n', 'e', ' ', 'L', 'e', 'a', 'r', 'n', 'i', 'n', 'g')\n",
    "\n",
    "result = tuple_to_string(t2)\n",
    "print(result)"
   ]
  },
  {
   "cell_type": "code",
   "execution_count": 5,
   "metadata": {},
   "outputs": [
    {
     "name": "stdout",
     "output_type": "stream",
     "text": [
      "('G', 'u', 'i', 'd', 'o', ' ', 'v', 'a', 'n', ' ', 'R', 'o', 's', 's', 'u', 'm')\n"
     ]
    }
   ],
   "source": [
    "# Soal 3\n",
    "def string_to_list_to_tuple(s):\n",
    "    return tuple(list(s))\n",
    "\n",
    "pythons_father = 'Guido van Rossum'\n",
    "result = string_to_list_to_tuple(pythons_father)\n",
    "print(result)"
   ]
  },
  {
   "cell_type": "code",
   "execution_count": 6,
   "metadata": {},
   "outputs": [
    {
     "name": "stdout",
     "output_type": "stream",
     "text": [
      "4\n"
     ]
    }
   ],
   "source": [
    "# Soal 4\n",
    "def how_many_instances(t, index):\n",
    "    element = t[index]\n",
    "    return t.count(element)\n",
    "\n",
    "t = (5, 2, 3, 3, 4, 2, 1, 3, 4, 5, 2, 1, 2)\n",
    "i = 1\n",
    "result = how_many_instances(t, i)\n",
    "print(result)"
   ]
  },
  {
   "cell_type": "code",
   "execution_count": 7,
   "metadata": {},
   "outputs": [
    {
     "name": "stdout",
     "output_type": "stream",
     "text": [
      "('d', 'e', 'f', 'g', 'h')\n",
      "('a', 'b', 'c', 'd', 'e')\n",
      "('f', 'g', 'h', 'i', 'j')\n",
      "('a', 'b', 'c', 'd', 'e', 'f', 'g', 'h', 'i', 'j')\n",
      "i\n",
      "('g', 'h', 'i', 'j')\n",
      "('b', 'd', 'f', 'h')\n",
      "('a', 'd', 'g', 'j')\n",
      "('i', 'h', 'g', 'f', 'e', 'd')\n",
      "('j', 'i', 'h', 'g', 'f', 'e', 'd', 'c', 'b', 'a')\n",
      "('j', 'h', 'f', 'd', 'b')\n",
      "('a', 'b', 'c', 'd', 'e', 'f', 'g', 'h', 'i')\n"
     ]
    }
   ],
   "source": [
    "# Soal 5\n",
    "tup = ('a', 'b', 'c', 'd', 'e', 'f', 'g', 'h', 'i', 'j')\n",
    "\n",
    "result1 = tup[3:7+1]\n",
    "result2 = tup[:5]\n",
    "result3 = tup[5:]\n",
    "result4 = tup[:]\n",
    "result5 = tup[-2]\n",
    "result6 = tup[-4:]\n",
    "result7 = tup[1:8:2]\n",
    "result8 = tup[::3]\n",
    "result9 = tup[8:2:-1]\n",
    "result10 = tup[::-1]\n",
    "result11 = tup[::-2]\n",
    "result12 = tup[:-1]\n",
    "\n",
    "print(result1)\n",
    "print(result2)\n",
    "print(result3)\n",
    "print(result4)\n",
    "print(result5)\n",
    "print(result6)\n",
    "print(result7)\n",
    "print(result8)\n",
    "print(result9)\n",
    "print(result10)\n",
    "print(result11)\n",
    "print(result12)"
   ]
  },
  {
   "cell_type": "code",
   "execution_count": 8,
   "metadata": {},
   "outputs": [
    {
     "name": "stdout",
     "output_type": "stream",
     "text": [
      "Before: [(2, 5, 8), (4, 3), (1, 7, 9, 6), (5,)]\n",
      "After: [(2, 5, 64), (4, 9), (1, 7, 9, 36), (25,)]\n"
     ]
    }
   ],
   "source": [
    "# Soal 6\n",
    "def change_tuple_ending(tuple_list):\n",
    "    for i, t in enumerate(tuple_list):\n",
    "        tuple_list[i] = t[:-1] + (t[-1] ** 2,)\n",
    "\n",
    "tuple_list = [(2, 5, 8), (4, 3), (1, 7, 9, 6), (5,)]\n",
    "print(\"Before:\", tuple_list)\n",
    "\n",
    "change_tuple_ending(tuple_list)\n",
    "print(\"After:\", tuple_list)"
   ]
  },
  {
   "cell_type": "code",
   "execution_count": 9,
   "metadata": {},
   "outputs": [
    {
     "name": "stdout",
     "output_type": "stream",
     "text": [
      "Original List: [(2, 5, 8), (4, 3), (1, 7, 9, 6), (5,)]\n",
      "Squared List: [(4, 25, 64), (16, 9), (1, 49, 81, 36), (25,)]\n"
     ]
    }
   ],
   "source": [
    "# Soal 7\n",
    "\n",
    "def replace_tuple_with_square(tuple_list):\n",
    "    return [tuple(x**2 for x in t) for t in tuple_list]\n",
    "\n",
    "tuple_list = [(2, 5, 8), (4, 3), (1, 7, 9, 6), (5,)]\n",
    "new_tuple_list = replace_tuple_with_square(tuple_list)\n",
    "\n",
    "print(\"Original List:\", tuple_list)\n",
    "print(\"Squared List:\", new_tuple_list)"
   ]
  },
  {
   "cell_type": "code",
   "execution_count": 10,
   "metadata": {},
   "outputs": [
    {
     "name": "stdout",
     "output_type": "stream",
     "text": [
      "{('Marlon Brando', 'Don Vito Corleone'): ('The Godfather', 1972), ('Heath Ledger', 'Joker'): ('The Dark Knight', 2008), ('Natalie Portman', 'The Swan Queen'): ('Black Swan', 2010), ('Emma Stone', 'Mia'): ('La La Land', 2016)}\n"
     ]
    }
   ],
   "source": [
    "# Soal 8\n",
    "def movie_characters(actors, characters, movies, years):\n",
    "    tuple1 = zip(actors, characters)\n",
    "    tuple2 = zip(movies, years)\n",
    "    return dict(zip(tuple1, tuple2))\n",
    "\n",
    "actors = ['Marlon Brando', 'Heath Ledger', 'Natalie Portman', 'Emma Stone']\n",
    "characters = ['Don Vito Corleone', 'Joker', 'The Swan Queen', 'Mia']\n",
    "movies = ['The Godfather', 'The Dark Knight', 'Black Swan', 'La La Land']\n",
    "years = [1972, 2008, 2010, 2016]\n",
    "\n",
    "result = movie_characters(actors, characters, movies, years)\n",
    "print(result)\n"
   ]
  },
  {
   "cell_type": "markdown",
   "metadata": {},
   "source": [
    "**QUIZ SET**"
   ]
  },
  {
   "cell_type": "code",
   "execution_count": null,
   "metadata": {},
   "outputs": [],
   "source": [
    "# Soal 1\n",
    "\n",
    "def create_set_and_add():\n",
    "    print()\n",
    "\n",
    "list_to_add = ['Cranberry', 'Grape', 'Pineapple', 'Mango']\n",
    "all_fruits = create_set_and_add(list_to_add)\n",
    "print(all_fruits)"
   ]
  },
  {
   "cell_type": "code",
   "execution_count": 12,
   "metadata": {},
   "outputs": [
    {
     "name": "stdout",
     "output_type": "stream",
     "text": [
      "{'Cherry', 'Mango', 'Grape', 'Another Fruit', 'Apple', 'Cranberry', 'Banana', 'Pineapple', 'Orange'}\n"
     ]
    }
   ],
   "source": [
    "# Soal 2\n",
    "\n",
    "def create_set_and_add_all_at_once(list_to_add):\n",
    "    fruits = {\"Apple\", \"Banana\", \"Cherry\", \"Orange\"}\n",
    "    fruits.update(list_to_add)\n",
    "    return fruits\n",
    "\n",
    "list_to_add = ['Cranberry', 'Grape', 'Pineapple', 'Mango', 'Another Fruit']\n",
    "all_fruits = create_set_and_add_all_at_once(list_to_add)\n",
    "print(all_fruits)"
   ]
  },
  {
   "cell_type": "code",
   "execution_count": 14,
   "metadata": {},
   "outputs": [
    {
     "name": "stdout",
     "output_type": "stream",
     "text": [
      "[20, 40, 60]\n"
     ]
    }
   ],
   "source": [
    "# Soal 3\n",
    "def same_elements(set_1, set_2):\n",
    "    return sorted(set_1.intersection(set_2))\n",
    "\n",
    "set_1 = {10, 20, 30, 40, 50, 60}\n",
    "set_2 = {20, 40, 60, 80, 90, 100}\n",
    "intersection = same_elements(set_1, set_2)\n",
    "print(intersection)\n"
   ]
  },
  {
   "cell_type": "code",
   "execution_count": 13,
   "metadata": {},
   "outputs": [
    {
     "name": "stdout",
     "output_type": "stream",
     "text": [
      "[100, 90, 80, 60, 50, 40, 30, 20, 10]\n"
     ]
    }
   ],
   "source": [
    "# Soal 4\n",
    "def all_elements(set_1, set_2):\n",
    "    return sorted(set_1.union(set_2), reverse=True)\n",
    "\n",
    "set_1 = {10, 20, 30, 40, 50, 60}\n",
    "set_2 = {20, 40, 60, 80, 90, 100}\n",
    "union = all_elements(set_1, set_2)\n",
    "print(union)"
   ]
  },
  {
   "cell_type": "code",
   "execution_count": 15,
   "metadata": {},
   "outputs": [
    {
     "name": "stdout",
     "output_type": "stream",
     "text": [
      "{1, 3, 5, 7, 9}\n"
     ]
    }
   ],
   "source": [
    "# Soal 5\n",
    "\n",
    "def get_difference(list_1, list_2):\n",
    "    return set(list_1).difference(set(list_2))\n",
    "\n",
    "l_1 = [1, 2, 3, 4, 5, 6, 7, 8, 9]\n",
    "l_2 = [2, 4, 6, 8]\n",
    "diff = get_difference(l_1, l_2)\n",
    "print(diff)"
   ]
  },
  {
   "cell_type": "code",
   "execution_count": 16,
   "metadata": {},
   "outputs": [
    {
     "name": "stdout",
     "output_type": "stream",
     "text": [
      "They are completely different.\n",
      "They are not completely different.\n"
     ]
    }
   ],
   "source": [
    "# Soal 6\n",
    "def is_completely_different(set_1, set_2):\n",
    "    if not isinstance(set_1, set) or not isinstance(set_2, set):\n",
    "        raise Exception(\"Parameters must be of Set type.\")\n",
    "    return \"They are completely different.\" if set_1.isdisjoint(set_2) else \"They are not completely different.\"\n",
    "\n",
    "set_1 = {20, 10, 40, 30, 50}\n",
    "set_2 = {60, 80, 70, 100, 90}\n",
    "print(is_completely_different(set_1, set_2))\n",
    "\n",
    "set_1 = {20, 10, 40, 30, 50, 60}\n",
    "set_2 = {60, 80, 70, 90, 40, 10}\n",
    "print(is_completely_different(set_1, set_2))"
   ]
  },
  {
   "cell_type": "code",
   "execution_count": 17,
   "metadata": {},
   "outputs": [
    {
     "name": "stdout",
     "output_type": "stream",
     "text": [
      "They are completely different.\n",
      "They are not completely different: {40, 10, 60}\n"
     ]
    }
   ],
   "source": [
    "# Soal 7\n",
    "def is_completely_different_2(set_1, set_2):\n",
    "    if not isinstance(set_1, set) or not isinstance(set_2, set):\n",
    "        raise Exception(\"Parameters must be of Set type.\")\n",
    "    if set_1.isdisjoint(set_2):\n",
    "        return \"They are completely different.\"\n",
    "    else:\n",
    "        return f\"They are not completely different: {set_1.intersection(set_2)}\"\n",
    "\n",
    "\n",
    "set_1 = {20, 10, 40, 30, 50}\n",
    "set_2 = {60, 80, 70, 100, 90}\n",
    "print(is_completely_different_2(set_1, set_2))\n",
    "\n",
    "set_1 = {20, 10, 40, 30, 50, 60}\n",
    "set_2 = {60, 80, 70, 90, 40, 10}\n",
    "print(is_completely_different_2(set_1, set_2))"
   ]
  },
  {
   "cell_type": "code",
   "execution_count": 18,
   "metadata": {},
   "outputs": [
    {
     "name": "stdout",
     "output_type": "stream",
     "text": [
      "before the function call -> set1: {'B', 'C', 'A', 'D', 'E'}\n",
      "after the function call -> set1: set()\n",
      "set1_copy: {'B', 'C', 'A', 'D', 'E'}\n"
     ]
    }
   ],
   "source": [
    "# Soal 8\n",
    "def copy_and_clear(original_set):\n",
    "    new_set = original_set.copy()\n",
    "    original_set.clear()\n",
    "    return new_set\n",
    "\n",
    "set1 = {'A', 'B', 'C', 'D', 'E'}\n",
    "print('before the function call -> set1:', set1)\n",
    "set1_copy = copy_and_clear(set1)\n",
    "print('after the function call -> set1:', set1)\n",
    "print('set1_copy:', set1_copy)"
   ]
  },
  {
   "cell_type": "code",
   "execution_count": 19,
   "metadata": {},
   "outputs": [
    {
     "name": "stdout",
     "output_type": "stream",
     "text": [
      "before the function -> set_1: {'c', 'f', 'a', 'd', 'b', 'e'}\n",
      "after the function -> set_1: {'c', 'a'}\n"
     ]
    }
   ],
   "source": [
    "# Soal 9\n",
    "def remove_common_elements(set_1, set_2):\n",
    "    set_1.difference_update(set_2)\n",
    "\n",
    "set_1 = {'a', 'b', 'c', 'd', 'e', 'f'}\n",
    "set_2 = {'d', 'b', 'e', 'f', 'h', 'g'}\n",
    "print('before the function -> set_1:', set_1)\n",
    "remove_common_elements(set_1, set_2)\n",
    "print('after the function -> set_1:', set_1)"
   ]
  },
  {
   "cell_type": "code",
   "execution_count": 20,
   "metadata": {},
   "outputs": [
    {
     "name": "stdout",
     "output_type": "stream",
     "text": [
      "set_2: {'c', 'f', 'a', 'd', 'b', 'e'} is superset of set_1: {'a', 'd', 'b', 'c'}\n",
      "set_1: {'c', 'f', 'a', 'd', 'b', 'e'} is superset of set_2: {'a', 'd', 'b', 'c'}\n"
     ]
    }
   ],
   "source": [
    "# Soal 10\n",
    "def which_one_is_superset(set_1, set_2):\n",
    "    if set_1.issuperset(set_2):\n",
    "        return f\"set_1: {set_1} is superset of set_2: {set_2}\"\n",
    "    elif set_2.issuperset(set_1):\n",
    "        return f\"set_2: {set_2} is superset of set_1: {set_1}\"\n",
    "    else:\n",
    "        return \"Neither set is a superset of the other.\"\n",
    "\n",
    "set_1 = {'a', 'b', 'c', 'd'}\n",
    "set_2 = {'d', 'b', 'e', 'f', 'a', 'c'}\n",
    "print(which_one_is_superset(set_1, set_2))\n",
    "\n",
    "set_1 = {'d', 'b', 'e', 'f', 'a', 'c'}\n",
    "set_2 = {'a', 'b', 'c', 'd'}\n",
    "print(which_one_is_superset(set_1, set_2))"
   ]
  },
  {
   "cell_type": "markdown",
   "metadata": {},
   "source": [
    "**QUIZ LIST**"
   ]
  },
  {
   "cell_type": "code",
   "execution_count": 35,
   "metadata": {},
   "outputs": [
    {
     "name": "stdout",
     "output_type": "stream",
     "text": [
      "15\n"
     ]
    }
   ],
   "source": [
    "# Soal 1\n",
    "def sum_of_list(nums):\n",
    "  sum = 0\n",
    "  for num in nums:\n",
    "    if isinstance(num, int):\n",
    "      sum += num\n",
    "  return sum\n",
    "\n",
    "nums = [1, 2, 3, 4, 5, 'a']\n",
    "result = sum_of_list(nums)\n",
    "print(result)"
   ]
  },
  {
   "cell_type": "code",
   "execution_count": 36,
   "metadata": {},
   "outputs": [
    {
     "name": "stdout",
     "output_type": "stream",
     "text": [
      "38\n"
     ]
    }
   ],
   "source": [
    "# Soal 2\n",
    "def two_levels_sum(nested_list):\n",
    "  sum = 0\n",
    "  for item in nested_list:\n",
    "    if isinstance(item, list):\n",
    "      sum += two_levels_sum(item)\n",
    "    elif isinstance(item, int):\n",
    "      sum += item\n",
    "  return sum\n",
    "\n",
    "a_list = [[5, 8], [1, 4, 7], [10], 3, 'a']\n",
    "summation = two_levels_sum(a_list)\n",
    "print(summation)"
   ]
  },
  {
   "cell_type": "code",
   "execution_count": 37,
   "metadata": {},
   "outputs": [
    {
     "name": "stdout",
     "output_type": "stream",
     "text": [
      "[1, 4, 9, 16, 25]\n"
     ]
    }
   ],
   "source": [
    "# Soal 3\n",
    "def squares(numbers):\n",
    "  squares_list = []\n",
    "  for num in numbers:\n",
    "    squares_list.append(num**2)\n",
    "  return squares_list\n",
    "\n",
    "numbers = [1,2,3,4,5]\n",
    "result = squares(numbers)\n",
    "print(result)"
   ]
  },
  {
   "cell_type": "code",
   "execution_count": 38,
   "metadata": {},
   "outputs": [
    {
     "name": "stdout",
     "output_type": "stream",
     "text": [
      "[1, 5, 14, 30, 55]\n"
     ]
    }
   ],
   "source": [
    "# Soal 4\n",
    "def sum_of_squares(numbers):\n",
    "  squares_list = [num**2 for num in numbers]\n",
    "  sum_of_squares_list = [sum(squares_list[:i+1]) for i in range(len(numbers))]\n",
    "  return sum_of_squares_list\n",
    "\n",
    "\n",
    "a_list = [1,2,3,4,5]\n",
    "result = sum_of_squares(a_list)\n",
    "print(result)"
   ]
  },
  {
   "cell_type": "code",
   "execution_count": 39,
   "metadata": {},
   "outputs": [
    {
     "name": "stdout",
     "output_type": "stream",
     "text": [
      "3\n"
     ]
    }
   ],
   "source": [
    "# Soal 5\n",
    "def odd_even_difference(a_list):\n",
    "  odd_indices = a_list[1::2]\n",
    "  even_indices = a_list[::2]\n",
    "  odd_sum = sum_of_list(odd_indices)\n",
    "  even_sum = sum_of_list(even_indices)\n",
    "  return odd_sum - even_sum\n",
    "\n",
    "a_list = [1,2,3,4,5,6]\n",
    "diff = odd_even_difference(a_list)\n",
    "print(diff)"
   ]
  },
  {
   "cell_type": "code",
   "execution_count": 40,
   "metadata": {},
   "outputs": [
    {
     "name": "stdout",
     "output_type": "stream",
     "text": [
      "the list before passing as parameter: [1, 2, 3, 4, 5, 6, 7]\n",
      "the list before passing as parameter: [2, 3, 4, 5, 6]\n"
     ]
    }
   ],
   "source": [
    "# Soal 6\n",
    "def crop_the_list(nums):\n",
    "  nums[:] = nums[1:-1]\n",
    "\n",
    "nums = [1,2,3,4,5,6,7]\n",
    "print('the list before passing as parameter:', nums)\n",
    "crop_the_list(nums)\n",
    "print('the list before passing as parameter:', nums)"
   ]
  },
  {
   "cell_type": "code",
   "execution_count": 41,
   "metadata": {},
   "outputs": [
    {
     "name": "stdout",
     "output_type": "stream",
     "text": [
      "a: [12, 4, 2, 1, 6, 3, 45]\n",
      "sorted - ascending [1, 2, 3, 4, 6, 12, 45]\n",
      "sorted - descending [45, 12, 6, 4, 3, 2, 1]\n",
      "a after sort_the_list function call: [12, 4, 2, 1, 6, 3, 45]\n"
     ]
    }
   ],
   "source": [
    "# Soal 7\n",
    "def sort_the_list(a, is_reverse=False):\n",
    "  return sorted(a, reverse=is_reverse)\n",
    "\n",
    "a = [12, 4, 2, 1, 6, 3, 45]\n",
    "print('a:', a)\n",
    "\n",
    "sorted_a = sort_the_list(a, False)\n",
    "print('sorted - ascending', sorted_a)\n",
    "\n",
    "sorted_a = sort_the_list(a, True)\n",
    "print('sorted - descending', sorted_a)\n",
    "\n",
    "print('a after sort_the_list function call:', a)"
   ]
  },
  {
   "cell_type": "code",
   "execution_count": 42,
   "metadata": {},
   "outputs": [
    {
     "name": "stdout",
     "output_type": "stream",
     "text": [
      "1650.0\n"
     ]
    }
   ],
   "source": [
    "# Soal 8\n",
    "def gauss(start=1, end=100, step_size=2):\n",
    "  numbers = list(range(start, end+1, step_size))\n",
    "  sorted_numbers_asc = sorted(numbers)\n",
    "  sorted_numbers_desc = sorted(numbers, reverse=True)\n",
    "  pairwise_sums = [a + b for a, b in zip(sorted_numbers_asc, sorted_numbers_desc)]\n",
    "  summation = sum(pairwise_sums)\n",
    "  result = summation / 2\n",
    "  return result\n",
    "\n",
    "conseq_sum = gauss(2, 100, 3)\n",
    "print(conseq_sum)"
   ]
  }
 ],
 "metadata": {
  "kernelspec": {
   "display_name": "Python 3",
   "language": "python",
   "name": "python3"
  },
  "language_info": {
   "codemirror_mode": {
    "name": "ipython",
    "version": 3
   },
   "file_extension": ".py",
   "mimetype": "text/x-python",
   "name": "python",
   "nbconvert_exporter": "python",
   "pygments_lexer": "ipython3",
   "version": "3.11.3"
  }
 },
 "nbformat": 4,
 "nbformat_minor": 2
}
