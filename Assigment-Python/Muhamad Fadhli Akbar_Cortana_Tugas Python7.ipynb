{
 "cells": [
  {
   "cell_type": "markdown",
   "metadata": {},
   "source": [
    "## Muhamad Fadhli Akbar(Cortana)\n",
    "### **Assignment 7**\n",
    "\n",
    "link access to repository github [click here](https://github.com/Cortana-Coders/AICI-Tasks/ \"link github\")\n",
    "\n"
   ]
  },
  {
   "cell_type": "markdown",
   "metadata": {},
   "source": [
    "**File Operations**"
   ]
  },
  {
   "cell_type": "markdown",
   "metadata": {},
   "source": [
    "**Open the 'quiz_files/flower_names.txt'** file in this project with Python. And print the flower names."
   ]
  },
  {
   "cell_type": "code",
   "execution_count": 2,
   "metadata": {},
   "outputs": [
    {
     "name": "stdout",
     "output_type": "stream",
     "text": [
      "A: African Daisy\n",
      "B: Bellflower\n",
      "C: Coral Bells\n",
      "D: Desert Rose\n",
      "E: English Bluebell\n",
      "F: Forget Me Not\n",
      "G: Goldenrod\n",
      "H: Heliotrope\n",
      "I: Impatiens\n",
      "J: Jamesia americana\n",
      "K: Kangaroo Paw\n",
      "L: Lily of the Valley\n",
      "M: Monks Hood\n",
      "N: Nemophila\n",
      "O: Ox Eye Daisy\n",
      "P: Peace Lily\n",
      "Q: Quaker Ladies\n",
      "R: Rain Lily\n",
      "S: Snapdragon\n",
      "T: Trumpet Vine\n",
      "U: Urn Plant\n",
      "V: Viola wittrockiana\n",
      "W: Whirling Butterflies\n",
      "X: Xanthoceras sorbifolium\n",
      "Y: Yellow Archangel\n"
     ]
    }
   ],
   "source": [
    "# Question 1\n",
    "\n",
    "import os\n",
    "\n",
    "with open(os.path.join(\"flower_names.txt\"), \"r\") as f: # Call flower_names.txt\n",
    "    content = f.read()\n",
    "\n",
    "print(content)\n",
    "\n"
   ]
  },
  {
   "cell_type": "markdown",
   "metadata": {},
   "source": [
    "**Open the 'quiz_files/flower_names.txt'** file in this project with Python.\n",
    "And append the name below to this file:\n",
    "\n",
    "'Z: Zinnia elegans'\n",
    "\n",
    "Finally print all the file content.\n",
    "\n",
    "Hints:\n",
    "* os\n",
    "* append mode ('a')"
   ]
  },
  {
   "cell_type": "code",
   "execution_count": 5,
   "metadata": {},
   "outputs": [
    {
     "name": "stdout",
     "output_type": "stream",
     "text": [
      "A: African Daisy\n",
      "B: Bellflower\n",
      "C: Coral Bells\n",
      "D: Desert Rose\n",
      "E: English Bluebell\n",
      "F: Forget Me Not\n",
      "G: Goldenrod\n",
      "H: Heliotrope\n",
      "I: Impatiens\n",
      "J: Jamesia americana\n",
      "K: Kangaroo Paw\n",
      "L: Lily of the Valley\n",
      "M: Monks Hood\n",
      "N: Nemophila\n",
      "O: Ox Eye Daisy\n",
      "P: Peace Lily\n",
      "Q: Quaker Ladies\n",
      "R: Rain Lily\n",
      "S: Snapdragon\n",
      "T: Trumpet Vine\n",
      "U: Urn Plant\n",
      "V: Viola wittrockiana\n",
      "W: Whirling Butterflies\n",
      "X: Xanthoceras sorbifolium\n",
      "Y: Yellow ArchangelZ: Zinnia elegans\n",
      "Z: Zinnia elegans\n",
      "\n"
     ]
    }
   ],
   "source": [
    "# Question 2\n",
    "\n",
    "import os\n",
    "\n",
    "file_path = \"flower_names.txt\"\n",
    "new_flower = \"Z: Zinnia elegans\"\n",
    "\n",
    "with open(os.path.join(file_path), \"a\") as f:\n",
    "    f.write(new_flower + \"\\n\")\n",
    "\n",
    "with open(os.path.join(file_path), \"r\") as f:\n",
    "    content = f.read()\n",
    "    print(content)"
   ]
  },
  {
   "cell_type": "markdown",
   "metadata": {},
   "source": [
    "Create a file named **'quiz_files/file_to_delete.txt'\"\".**\n",
    "And add the content below into this file:\n",
    "'This file will be deleted in the Quiz.'\n",
    "\n",
    "Hints:\n",
    "* os\n",
    "* to create file -> mode='x'\n",
    "* encoding"
   ]
  },
  {
   "cell_type": "code",
   "execution_count": null,
   "metadata": {},
   "outputs": [],
   "source": [
    "# Question 3\n",
    "\n"
   ]
  },
  {
   "cell_type": "markdown",
   "metadata": {},
   "source": [
    "## **Thank You**\n",
    "\n",
    "Link github [click here](https://github.com/Cortana-Coders/AICI-Tasks/ \"link github\")\n",
    "\n",
    "<p align=\"center\">\n",
    "<img src=\"https://i.pinimg.com/originals/bd/22/12/bd22126371bf5109aceab92256c690fe.gif\"  width=80% alt=\"Asuka langley GIF\">\n",
    "</p>"
   ]
  }
 ],
 "metadata": {
  "kernelspec": {
   "display_name": "base",
   "language": "python",
   "name": "python3"
  },
  "language_info": {
   "codemirror_mode": {
    "name": "ipython",
    "version": 3
   },
   "file_extension": ".py",
   "mimetype": "text/x-python",
   "name": "python",
   "nbconvert_exporter": "python",
   "pygments_lexer": "ipython3",
   "version": "3.12.4"
  }
 },
 "nbformat": 4,
 "nbformat_minor": 2
}
