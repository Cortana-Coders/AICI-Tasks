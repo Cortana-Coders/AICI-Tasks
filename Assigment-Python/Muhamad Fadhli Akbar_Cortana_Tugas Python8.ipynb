{
 "cells": [
  {
   "cell_type": "markdown",
   "metadata": {},
   "source": [
    "## Muhamad Fadhli Akbar(Cortana)\n",
    "\n",
    "### **Assigment 8 About OOP**\n",
    "\n",
    "Link my repository github [click here](https://github.com/Cortana-Coders/AICI-Tasks/ \"link github\")"
   ]
  },
  {
   "cell_type": "markdown",
   "metadata": {},
   "source": [
    "Q1 Define a **class named Student**. Student has two attributes:\n",
    "* name (str)\n",
    "* number (str)\n",
    "Create two student objects out of this class.\n",
    "The objects will be:\n",
    "1- name: James Bond, number: 007\n",
    "2- name: Clark Kent, number: 333\n",
    "Print their names.\n",
    "\n",
    "Hints:\n",
    "* _init_\n",
    "  \n",
    "Expected Output:\n",
    "1. James Bond\n",
    "2. Clark Kent\n",
    "\n"
   ]
  },
  {
   "cell_type": "code",
   "execution_count": 2,
   "metadata": {},
   "outputs": [
    {
     "name": "stdout",
     "output_type": "stream",
     "text": [
      "James Bond\n",
      "Clark Kent\n"
     ]
    }
   ],
   "source": [
    "# Question 1\n",
    "\n",
    "class Student:\n",
    "  def __init__(self, name, number):\n",
    "    self.name = name\n",
    "    self.number = number\n",
    "\n",
    "student1 = Student(\"James Bond\", \"007\")\n",
    "student2 = Student(\"Clark Kent\", \"333\")\n",
    "\n",
    "print(student1.name)\n",
    "print(student2.name)\n"
   ]
  },
  {
   "cell_type": "markdown",
   "metadata": {},
   "source": [
    "**Q2** The Student class you defined in **Q1**, has a new attribute.\n",
    "This attribute is 'courses' and it will keep the list of courses that the student takes.\n",
    "Its type is list and it will initialize as an empty list.\n",
    "There will be a method named 'enroll' to enroll the course.\n",
    "The student will enroll the course, if it has not enrolled already.\n",
    "Moreover, there will be a method named 'get_courses' which will return the course list.\n",
    "Redefine the Student class based on these information.\n",
    "\n",
    "Student data:\n",
    "name: John Doe, \n",
    "number: 1111,\n",
    "courses: \n",
    "    * Python Hands-On\n",
    "    * Machine Learning\n",
    "\n",
    "Expected Output:\n",
    "student.get_courses()  ->  ['Python Hands-On', 'Machine Learning']"
   ]
  },
  {
   "cell_type": "code",
   "execution_count": 3,
   "metadata": {},
   "outputs": [
    {
     "name": "stdout",
     "output_type": "stream",
     "text": [
      "['Python Hands-On', 'Machine Learning']\n"
     ]
    }
   ],
   "source": [
    "# Question 2\n",
    "\n",
    "class Student:\n",
    "  def __init__(self, name, number):\n",
    "    self.name = name\n",
    "    self.number = number\n",
    "    self.courses = []\n",
    "\n",
    "  def enroll(self, course):\n",
    "    if course not in self.courses:\n",
    "      self.courses.append(course)\n",
    "\n",
    "  def get_courses(self):\n",
    "    return self.courses\n",
    "\n",
    "student = Student(\"John Doe\", \"1111\")\n",
    "student.enroll(\"Python Hands-On\")\n",
    "student.enroll(\"Machine Learning\")\n",
    "\n",
    "print(student.get_courses())\n"
   ]
  },
  {
   "cell_type": "markdown",
   "metadata": {},
   "source": [
    "## **Thank You**\n",
    "\n",
    "<img src=\"https://i.pinimg.com/originals/4d/55/6b/4d556b7a12b494226be5e654256ec4e9.gif\" width=120% alt=\"Anime Banner\">"
   ]
  }
 ],
 "metadata": {
  "kernelspec": {
   "display_name": "base",
   "language": "python",
   "name": "python3"
  },
  "language_info": {
   "codemirror_mode": {
    "name": "ipython",
    "version": 3
   },
   "file_extension": ".py",
   "mimetype": "text/x-python",
   "name": "python",
   "nbconvert_exporter": "python",
   "pygments_lexer": "ipython3",
   "version": "3.12.4"
  }
 },
 "nbformat": 4,
 "nbformat_minor": 2
}
