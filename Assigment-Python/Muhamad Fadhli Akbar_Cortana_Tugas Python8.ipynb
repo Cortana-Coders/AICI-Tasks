{
 "cells": [
  {
   "cell_type": "markdown",
   "metadata": {},
   "source": [
    "## Muhamad Fadhli Akbar(Cortana)\n",
    "\n",
    "### **Assigment 8 About OOP**\n",
    "\n",
    "Link my repository github [click here](https://github.com/Cortana-Coders/AICI-Tasks/ \"link github\")"
   ]
  },
  {
   "cell_type": "markdown",
   "metadata": {},
   "source": [
    "Q1 Define a **class named Student**. Student has two attributes:\n",
    "* name (str)\n",
    "* number (str)\n",
    "Create two student objects out of this class.\n",
    "The objects will be:\n",
    "1- name: James Bond, number: 007\n",
    "2- name: Clark Kent, number: 333\n",
    "Print their names.\n",
    "\n",
    "Hints:\n",
    "* _init_\n",
    "  \n",
    "Expected Output:\n",
    "1. James Bond\n",
    "2. Clark Kent\n",
    "\n"
   ]
  },
  {
   "cell_type": "code",
   "execution_count": 2,
   "metadata": {},
   "outputs": [
    {
     "name": "stdout",
     "output_type": "stream",
     "text": [
      "James Bond\n",
      "Clark Kent\n"
     ]
    }
   ],
   "source": [
    "# Question 1\n",
    "\n",
    "class Student:\n",
    "  def __init__(self, name, number):\n",
    "    self.name = name\n",
    "    self.number = number\n",
    "\n",
    "student1 = Student(\"James Bond\", \"007\")\n",
    "student2 = Student(\"Clark Kent\", \"333\")\n",
    "\n",
    "print(student1.name)\n",
    "print(student2.name)\n"
   ]
  },
  {
   "cell_type": "markdown",
   "metadata": {},
   "source": [
    "**Q2** The Student class you defined in **Q1**, has a new attribute.\n",
    "This attribute is 'courses' and it will keep the list of courses that the student takes.\n",
    "Its type is list and it will initialize as an empty list.\n",
    "There will be a method named 'enroll' to enroll the course.\n",
    "The student will enroll the course, if it has not enrolled already.\n",
    "Moreover, there will be a method named 'get_courses' which will return the course list.\n",
    "Redefine the Student class based on these information.\n",
    "\n",
    "Student data:\n",
    "name: John Doe, \n",
    "number: 1111,\n",
    "courses: \n",
    "    * Python Hands-On\n",
    "    * Machine Learning\n",
    "\n",
    "Expected Output:\n",
    "student.get_courses()  ->  ['Python Hands-On', 'Machine Learning']"
   ]
  },
  {
   "cell_type": "code",
   "execution_count": 3,
   "metadata": {},
   "outputs": [
    {
     "name": "stdout",
     "output_type": "stream",
     "text": [
      "['Python Hands-On', 'Machine Learning']\n"
     ]
    }
   ],
   "source": [
    "# Question 2\n",
    "\n",
    "class Student:\n",
    "  def __init__(self, name, number):\n",
    "    self.name = name\n",
    "    self.number = number\n",
    "    self.courses = []\n",
    "\n",
    "  def enroll(self, course):\n",
    "    if course not in self.courses:\n",
    "      self.courses.append(course)\n",
    "\n",
    "  def get_courses(self):\n",
    "    return self.courses\n",
    "\n",
    "student = Student(\"John Doe\", \"1111\")\n",
    "student.enroll(\"Python Hands-On\")\n",
    "student.enroll(\"Machine Learning\")\n",
    "\n",
    "print(student.get_courses())\n"
   ]
  },
  {
   "cell_type": "markdown",
   "metadata": {},
   "source": []
  },
  {
   "cell_type": "markdown",
   "metadata": {},
   "source": [
    "**Q3** Define a class named Point.\n",
    "It will represent a point in x-y coordinate space.\n",
    "And the docstring will be:\n",
    "'it represents a point in (x,y) coordinates.'\n",
    "Attributes: \n",
    "    * x (int) \n",
    "    * y (int)\n",
    "Define __init__() method for this class.\n",
    "And it has a method named 'distance' which calculates the distance between two Points.\n",
    "The first point is the current point (self) and the second will be the parameter.\n",
    "\n",
    "Hints:\n",
    "* to calculate distance (d):\n",
    "    * get the difference between x values (x_diff)\n",
    "    * get the difference between y values (y_diff)\n",
    "    * d = math.sqrt(x_diff**2 + y_diff**2)"
   ]
  },
  {
   "cell_type": "code",
   "execution_count": 1,
   "metadata": {},
   "outputs": [
    {
     "name": "stdout",
     "output_type": "stream",
     "text": [
      "5.0\n"
     ]
    }
   ],
   "source": [
    "# Question 3\n",
    "\n",
    "import math\n",
    "\n",
    "class Point:\n",
    "    def __init__(self, x, y):\n",
    "        self.x = x\n",
    "        self.y = y\n",
    "\n",
    "    def distance(self, other):\n",
    "        x_diff = other.x - self.x\n",
    "        y_diff = other.y - self.y\n",
    "        return math.sqrt(x_diff**2 + y_diff**2)\n",
    "\n",
    "# Example usage:\n",
    "p_1 = Point(1, 7)\n",
    "p_2 = Point(4, 3)\n",
    "dist = p_1.distance(p_2)\n",
    "print(dist)"
   ]
  },
  {
   "cell_type": "markdown",
   "metadata": {},
   "source": [
    "**Q 4** Define a class named Rectangle.\n",
    "It represents a rectangle on the X-Y coordinate axis.\n",
    "And this is its docstring:\n",
    "\"This class represents a rectangle on (x,y) coordinate axis.\"\n",
    "Rectangle has 4 attributes:\n",
    "* corner_1 (Point)\n",
    "* corner_2 (Point)\n",
    "* corner_3 (Point)\n",
    "* corner_4 (Point)\n",
    "\n",
    "\n",
    "The type of these 4 corners are the Point class we defined in Q3.\n",
    "Corner 1 and 2 are on the same line (side).\n",
    "Corner 3 and 4 are on the same line (side).\n",
    "\n",
    "Define the __init__() method for the Rectangle class.\n",
    "It has methods to calculate its width and length.\n",
    "    * width = distance between corner 1 and 2 -> calculate_width()\n",
    "    * length = distance between corner 1 and 3 -> calculate_length()    \n",
    "Rectangle uses Point class to calculate these distances.\n",
    "Finally, Rectangle has a method which returns its area.\n",
    "The name of this method is 'area'."
   ]
  },
  {
   "cell_type": "code",
   "execution_count": 2,
   "metadata": {},
   "outputs": [
    {
     "name": "stdout",
     "output_type": "stream",
     "text": [
      "width: 4.0\n",
      "length: 6.0\n",
      "area: 24.0\n"
     ]
    }
   ],
   "source": [
    "# Question 4\n",
    "\n",
    "class Rectangle:\n",
    "    def __init__(self, corner_1, corner_2, corner_3, corner_4):\n",
    "        self.corner_1 = corner_1\n",
    "        self.corner_2 = corner_2\n",
    "        self.corner_3 = corner_3\n",
    "        self.corner_4 = corner_4\n",
    "\n",
    "    def calculate_width(self):\n",
    "        \"\"\"Calculates the width of the rectangle.\"\"\"\n",
    "        return self.corner_1.distance(self.corner_2)\n",
    "\n",
    "    def calculate_length(self):\n",
    "        \"\"\"Calculates the length of the rectangle.\"\"\"\n",
    "        return self.corner_1.distance(self.corner_3)\n",
    "\n",
    "    def area(self):\n",
    "        \"\"\"Calculates the area of the rectangle.\"\"\"\n",
    "        width = self.calculate_width()\n",
    "        length = self.calculate_length()\n",
    "        return width * length\n",
    "\n",
    "p_1 = Point(5, 8)\n",
    "p_2 = Point(9, 8)\n",
    "p_3 = Point(5, 2)\n",
    "p_4 = Point(9, 2)\n",
    "\n",
    "rect = Rectangle(p_1, p_2, p_3, p_4)\n",
    "\n",
    "width = rect.calculate_width()\n",
    "length = rect.calculate_length()\n",
    "area = rect.area()\n",
    "\n",
    "print(\"width:\", width)\n",
    "print(\"length:\", length)\n",
    "print(\"area:\", area)"
   ]
  },
  {
   "cell_type": "markdown",
   "metadata": {},
   "source": [
    "**Q 5** Define a class named BankAccount.\n",
    "\n",
    "It has an attribute: balance (int)\n",
    "And it has two methods:\n",
    "    * withdraw -> removes money from balance\n",
    "    * deposit -> adds money to balance\n",
    "Both methods will update the balance and return the final balance.\n",
    "The initial balance is 0. (__init__())\n",
    "Finally there is method named 'display_balance' and it will print the current balance as:\n",
    "'Balance: xxxxxx'\n",
    "\n",
    "Expected Output:\n",
    "```python\n",
    "account = BankAccount()\n",
    "account.display_balance()\n",
    "account.deposit(500)\n",
    "account.display_balance()\n",
    "account.withdraw(200)\n",
    "account.display_balance()\n",
    "\n",
    "Balance: 0\n",
    "Balance: 500\n",
    "Balance: 300\n",
    "```"
   ]
  },
  {
   "cell_type": "code",
   "execution_count": 3,
   "metadata": {},
   "outputs": [
    {
     "name": "stdout",
     "output_type": "stream",
     "text": [
      "Balance: 0\n",
      "Balance: 500\n",
      "Balance: 300\n"
     ]
    }
   ],
   "source": [
    "# Question 5\n",
    "\n",
    "class BankAccount:\n",
    "    \"\"\"Represents a bank account.\"\"\"\n",
    "\n",
    "    def __init__(self):\n",
    "        self.balance = 0\n",
    "\n",
    "    def deposit(self, amount):\n",
    "        \"\"\"Deposits money into the account.\"\"\"\n",
    "        self.balance += amount\n",
    "\n",
    "    def withdraw(self, amount):\n",
    "        \"\"\"Withdraws money from the account.\"\"\"\n",
    "        if amount <= self.balance:\n",
    "            self.balance -= amount\n",
    "        else:\n",
    "            print(\"Sorry, you don't have enough funds.\")\n",
    "\n",
    "    def display_balance(self):\n",
    "        \"\"\"Displays the current balance.\"\"\"\n",
    "        print(\"Balance:\", self.balance)\n",
    "\n",
    "account = BankAccount()\n",
    "account.display_balance()\n",
    "\n",
    "account.deposit(500)\n",
    "account.display_balance()\n",
    "\n",
    "account.withdraw(200)\n",
    "account.display_balance()"
   ]
  },
  {
   "cell_type": "markdown",
   "metadata": {},
   "source": [
    "**Q 6:** Define a class named MinimumBankAccount.\n",
    "This class will inherit from the BankAccount defined in Q5.\n",
    "It will have an attribute as 'min_balance' to keep the minimum balance.\n",
    "The value for min_balance will be defined while object instantiation. (__init__())\n",
    "\n",
    "We will check the min_balance when the user wants to withdraw:\n",
    "* If after withdraw, the balance is less than min_balance\n",
    "    * we will not let this withdraw\n",
    "    * and we will return as: 'Sorry, you cannot withdraw this amount.'\n",
    "Finally modify the class so that it prints some meaningful data like:\n",
    "print(MinimumBankAccount) -> 'This is MinimumBankAccount class'.\n",
    "\n",
    "Hints:\n",
    "* super()\n",
    "* __str__  -> operator overloading\n",
    "* do not implement withdraw in this class. \n",
    "  Super class (BankAccount) is already doing this.\n",
    "  You should just check it here.\n",
    "\n",
    "Expected Output:\n",
    "```python\n",
    "min_account = MinimumBankAccount(100)\n",
    "print(min_account)\n",
    "min_account.deposit(500)\n",
    "min_account.display_balance()\n",
    "min_account.withdraw(200)\n",
    "min_account.display_balance()\n",
    "min_account.withdraw(300)\n",
    "min_account.display_balance()\n",
    "\n",
    "This is MinimumBankAccount class\n",
    "Balance: 500\n",
    "Balance: 300\n",
    "Sorry, you cannot withdraw this amount.\n",
    "Balance: 300\n",
    "```"
   ]
  },
  {
   "cell_type": "code",
   "execution_count": 6,
   "metadata": {},
   "outputs": [
    {
     "name": "stdout",
     "output_type": "stream",
     "text": [
      "This is MinimumBankAccount class\n",
      "Balance: 500\n",
      "Balance: 300\n",
      "Sorry, you cannot withdraw this amount.\n",
      "Balance: 300\n"
     ]
    }
   ],
   "source": [
    "class MinimumBankAccount(BankAccount):\n",
    "\n",
    "    def __init__(self, min_balance):\n",
    "        super().__init__()\n",
    "        self.min_balance = min_balance\n",
    "\n",
    "    def withdraw(self, amount):\n",
    "        if self.balance - amount >= self.min_balance:\n",
    "            super().withdraw(amount)\n",
    "        else:\n",
    "            print(\"Sorry, you cannot withdraw this amount.\")\n",
    "\n",
    "    def __str__(self):\n",
    "        return \"This is MinimumBankAccount class\"\n",
    "\n",
    "# create an object\n",
    "min_account = MinimumBankAccount(100)\n",
    "\n",
    "# print the class\n",
    "print(min_account)\n",
    "\n",
    "min_account.deposit(500)\n",
    "min_account.display_balance()\n",
    "\n",
    "min_account.withdraw(200)\n",
    "min_account.display_balance()\n",
    "\n",
    "# withdraw the remaining amount\n",
    "min_account.withdraw(300)\n",
    "min_account.display_balance()"
   ]
  },
  {
   "cell_type": "markdown",
   "metadata": {},
   "source": [
    "**Q 7** What are the results of the print() functions below?\n",
    "\n",
    "```python\n",
    "\n",
    "class K:\n",
    "    def a(self):\n",
    "        return self.b()\n",
    "\n",
    "    def b(self):\n",
    "        return 'K'\n",
    "\n",
    "class L(K):\n",
    "    def b(self):\n",
    "        return 'L'\n",
    "\n",
    "k = K()\n",
    "l = L()\n",
    "\n",
    "print(k.b(), l.b())\n",
    "print(k.a(), l.a())\n",
    "\n",
    "```"
   ]
  },
  {
   "cell_type": "code",
   "execution_count": null,
   "metadata": {},
   "outputs": [],
   "source": [
    "# Question 7"
   ]
  },
  {
   "cell_type": "markdown",
   "metadata": {},
   "source": [
    "**Q8** Define two classes as below:\n",
    "\n",
    "Song: The class for songs.\n",
    "Each song has: 'name', 'artist', 'album' and 'song_number'.\n",
    "'album' will be of type Album class.\n",
    "\n",
    "Album:\n",
    "The class for albums.\n",
    "Each album has: 'name', 'artist', 'year' and 'songs'.\n",
    "'songs' will be a list of Song class objects.\n",
    "\n",
    "Album class has a method named 'add_song' to append a song to the 'songs' list.\n",
    "It creates a song number while appending to the list.\n",
    "Print the songs in the Album.\"\"\"\n",
    "\n",
    "```python\n",
    "\n",
    "Expected Output:\n",
    "album = Album('Yesterday and Today', 'The Beatles', 1966)\n",
    "album.add_song('Yesterday')\n",
    "album.add_song('Act Naturally')\n",
    "album.add_song('What Goes On')\n",
    "\n",
    "Yesterday\n",
    "Act Naturally\n",
    "What Goes On\n",
    "```"
   ]
  },
  {
   "cell_type": "code",
   "execution_count": 7,
   "metadata": {},
   "outputs": [
    {
     "name": "stdout",
     "output_type": "stream",
     "text": [
      "Yesterday\n",
      "Act Naturally\n",
      "What Goes On\n"
     ]
    }
   ],
   "source": [
    "# Question 8\n",
    "\n",
    "class Song:\n",
    "    def __init__(self, name, artist, album, song_number):\n",
    "        self.name = name\n",
    "        self.artist = artist\n",
    "        self.album = album\n",
    "        self.song_number = song_number\n",
    "\n",
    "    def __str__(self):\n",
    "        return self.name\n",
    "\n",
    "class Album:\n",
    "    def __init__(self, name, artist, year):\n",
    "        self.name = name\n",
    "        self.artist = artist\n",
    "        self.year = year\n",
    "        self.songs = []\n",
    "\n",
    "    def add_song(self, name):\n",
    "        song_number = len(self.songs) + 1\n",
    "        song = Song(name, self.artist, self, song_number)\n",
    "        self.songs.append(song)\n",
    "\n",
    "    def __str__(self):\n",
    "        return self.name\n",
    "\n",
    "# Example usage:\n",
    "album = Album('Yesterday and Today', 'The Beatles', 1966)\n",
    "album.add_song('Yesterday')\n",
    "album.add_song('Act Naturally')\n",
    "album.add_song('What Goes On')\n",
    "\n",
    "for song in album.songs:\n",
    "    print(song)"
   ]
  },
  {
   "cell_type": "markdown",
   "metadata": {},
   "source": [
    "**Artist and Album Classes**\n",
    "\n",
    "This code defines a class named `Artist` that holds an artist's name and their albums. Each album is an instance of the `Album` class, which contains songs. The goal is to manage an artist's albums and list all the songs using both a `for` loop and a list comprehension.\n",
    "\n",
    "**Class Definitions**\n",
    "\n",
    "Artist Class\n",
    "```python\n",
    "class Artist:\n",
    "    def __init__(self, name):\n",
    "        self.name = name\n",
    "        self.albums = []\n",
    "\n",
    "    def add_album(self, album):\n",
    "        \"\"\"Adds an album to the artist's list of albums.\"\"\"\n",
    "        self.albums.append(album)\n"
   ]
  },
  {
   "cell_type": "code",
   "execution_count": 8,
   "metadata": {},
   "outputs": [
    {
     "name": "stdout",
     "output_type": "stream",
     "text": [
      "----- albums -----\n",
      "Yesterday and Today\n",
      "Let It Be\n",
      "---- songs ------\n",
      "Yesterday\n",
      "Act Naturally\n",
      "Let It Be\n",
      "For You Blue\n",
      "----- songs - comprehension -----\n",
      "Yesterday\n",
      "Act Naturally\n",
      "Let It Be\n",
      "For You Blue\n"
     ]
    }
   ],
   "source": [
    "# Question 9\n",
    "\n",
    "class Artist:\n",
    "    def __init__(self, name):\n",
    "        self.name = name\n",
    "        self.albums = []\n",
    "\n",
    "    def add_album(self, album):\n",
    "        self.albums.append(album)\n",
    "\n",
    "# Example usage:\n",
    "beatles = Artist('The Beatles')\n",
    "\n",
    "album_1 = Album('Yesterday and Today', 'The Beatles', 1966)\n",
    "album_1.add_song('Yesterday')\n",
    "album_1.add_song('Act Naturally')\n",
    "beatles.add_album(album_1)\n",
    "\n",
    "album_2 = Album('Let It Be', 'The Beatles', 1970)\n",
    "album_2.add_song('Let It Be')\n",
    "album_2.add_song('For You Blue')\n",
    "beatles.add_album(album_2)\n",
    "\n",
    "print('----- albums -----')\n",
    "for album in beatles.albums:\n",
    "    print(album)\n",
    "\n",
    "print('---- songs ------')\n",
    "for album in beatles.albums:\n",
    "    for song in album.songs:\n",
    "        print(song)\n",
    "\n",
    "print('----- songs - comprehension -----')\n",
    "songs = [song for album in beatles.albums for song in album.songs]\n",
    "for song in songs:\n",
    "    print(song)"
   ]
  },
  {
   "cell_type": "markdown",
   "metadata": {},
   "source": [
    "**Q 10**\n",
    "\n",
    "Overload the add (+) operator for Album class.\n",
    "You will be able to add to Albums as:\n",
    "* Album + Album\n",
    "\n",
    "And the result of this addition is the list of all songs in both classes.\n",
    "\n",
    "If you do not overload the + operator and call as:\n",
    "print(album_1 + album_2)\n",
    "You will get an error:\n",
    "TypeError: unsupported operand type(s) for +: 'Album' and 'Album'\n",
    "\n",
    "Hints:\n",
    "* __add__()  -> this is + operator method"
   ]
  },
  {
   "cell_type": "code",
   "execution_count": 13,
   "metadata": {},
   "outputs": [
    {
     "name": "stdout",
     "output_type": "stream",
     "text": [
      "Yesterday\n",
      "Act Naturally\n",
      "Let It Be\n",
      "For You Blue\n"
     ]
    }
   ],
   "source": [
    "# Question 10\n",
    "\n",
    "class Album:\n",
    "    def __init__(self, title, artist, year):\n",
    "        self.title = title\n",
    "        self.artist = artist\n",
    "        self.year = year\n",
    "        self.songs = []\n",
    "\n",
    "    def add_song(self, song):\n",
    "        \"\"\"Menambahkan lagu ke album.\"\"\"\n",
    "        self.songs.append(song)\n",
    "\n",
    "    def __add__(self, other):\n",
    "        \"\"\"Menggabungkan lagu-lagu dari dua album.\"\"\"\n",
    "        all_songs = self.songs + other.songs\n",
    "        return all_songs\n",
    "\n",
    "# Example usage:\n",
    "album_1 = Album('Yesterday and Today', 'The Beatles', 1966)\n",
    "album_1.add_song('Yesterday')\n",
    "album_1.add_song('Act Naturally')\n",
    "\n",
    "album_2 = Album('Let It Be', 'The Beatles', 1970)\n",
    "album_2.add_song('Let It Be')\n",
    "album_2.add_song('For You Blue')\n",
    "\n",
    "all_songs = album_1 + album_2\n",
    "\n",
    "for song in all_songs:\n",
    "    print(song)\n"
   ]
  },
  {
   "cell_type": "markdown",
   "metadata": {},
   "source": [
    "### **Thank You😁**\n",
    "\n",
    "<img src=\"https://i.pinimg.com/originals/c1/61/8d/c1618df57cff263d2170ecdd44dc8c9b.gif\" width=120% alt=\"Anime Banner\">"
   ]
  }
 ],
 "metadata": {
  "kernelspec": {
   "display_name": "base",
   "language": "python",
   "name": "python3"
  },
  "language_info": {
   "codemirror_mode": {
    "name": "ipython",
    "version": 3
   },
   "file_extension": ".py",
   "mimetype": "text/x-python",
   "name": "python",
   "nbconvert_exporter": "python",
   "pygments_lexer": "ipython3",
   "version": "3.12.4"
  }
 },
 "nbformat": 4,
 "nbformat_minor": 2
}
