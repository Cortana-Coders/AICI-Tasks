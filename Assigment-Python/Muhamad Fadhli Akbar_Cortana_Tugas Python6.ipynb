{
 "cells": [
  {
   "cell_type": "markdown",
   "metadata": {},
   "source": [
    "## Muhamad Fadhli Akbar(Cortana)\n",
    "### Assigment 6 About Expection\n",
    "\n",
    "To access the repository link [click here](https://github.com/Cortana-Coders/AICI-Tasks/ \"link github\")"
   ]
  },
  {
   "cell_type": "markdown",
   "metadata": {},
   "source": [
    "**Exception Handling**"
   ]
  },
  {
   "cell_type": "code",
   "execution_count": 4,
   "metadata": {},
   "outputs": [
    {
     "name": "stdout",
     "output_type": "stream",
     "text": [
      "Warning: Non-numeric value 'b' ignored.\n",
      "4\n",
      "6\n"
     ]
    }
   ],
   "source": [
    "# Question 1\n",
    "\n",
    "def sum_of_list(lst):\n",
    "  total = 0\n",
    "  for num in lst:\n",
    "    if isinstance(num, (int, float)):  # Hanya menjumlahkan angka\n",
    "      total += num\n",
    "    else:\n",
    "      print(f\"Warning: Non-numeric value '{num}' ignored.\")\n",
    "  return total\n",
    "\n",
    "print(sum_of_list([1, 'b', 3]))  # Output: 4\n",
    "print(sum_of_list([1, 2, 3]))    # Output: 6"
   ]
  },
  {
   "cell_type": "code",
   "execution_count": 1,
   "metadata": {},
   "outputs": [
    {
     "name": "stdout",
     "output_type": "stream",
     "text": [
      "Error: 'Like' key is missing in a review.\n",
      "45\n"
     ]
    }
   ],
   "source": [
    "# Question 2\n",
    "\n",
    "def total_likes():\n",
    "  reviews = [{'Image': 4, 'Like': 20, 'Comment': 12},\n",
    "             {'Like': 15, 'Comment': 8, 'Share': 10},\n",
    "             {'Image': 7, 'Comment': 16, 'Share': 37},\n",
    "             {'Image': 6, 'Like': 10, 'Comment': 9}]\n",
    "  total = 0\n",
    "\n",
    "  for review in reviews:\n",
    "    try:\n",
    "      total += review['Like']\n",
    "    except KeyError:\n",
    "      print(\"Error: 'Like' key is missing in a review.\")\n",
    "  return total\n",
    "\n",
    "total_number_of_likes = total_likes()\n",
    "print(total_number_of_likes)"
   ]
  },
  {
   "cell_type": "code",
   "execution_count": 2,
   "metadata": {},
   "outputs": [
    {
     "name": "stdout",
     "output_type": "stream",
     "text": [
      "Operation interrupted.\n",
      "Operation complete.\n"
     ]
    }
   ],
   "source": [
    "# Question 3\n",
    "def give_me_a_key():\n",
    "  try:\n",
    "    key = input(\"Press any key: \")\n",
    "    if key.isdigit():\n",
    "      return int(key) ** 2\n",
    "    elif key.isalpha():\n",
    "      return key.upper()\n",
    "    else:\n",
    "      return key\n",
    "  except ValueError:\n",
    "    print(\"Invalid input.\")\n",
    "  except KeyboardInterrupt:\n",
    "    print(\"Operation interrupted.\")\n",
    "  finally:\n",
    "    print(\"Operation complete.\")\n",
    "\n",
    "give_me_a_key()"
   ]
  },
  {
   "cell_type": "code",
   "execution_count": 6,
   "metadata": {},
   "outputs": [
    {
     "name": "stdout",
     "output_type": "stream",
     "text": [
      "Index 7 is out of range for list of length 4.\n"
     ]
    }
   ],
   "source": [
    "# Question 4\n",
    "\n",
    "def item_at_index(lst, ind):\n",
    "  try:\n",
    "    return lst[ind]\n",
    "  except IndexError:\n",
    "    raise Exception(f\"Index {ind} is out of range for list of length {len(lst)}.\")\n",
    "\n",
    "my_list = ['x', 'y', 'z', 't']\n",
    "ind = 7\n",
    "try:\n",
    "  result = item_at_index(my_list, ind)\n",
    "  print(result)\n",
    "except Exception as e:\n",
    "  print(e)\n"
   ]
  },
  {
   "cell_type": "markdown",
   "metadata": {},
   "source": [
    "**Modules & Packages**\n"
   ]
  },
  {
   "cell_type": "code",
   "execution_count": 8,
   "metadata": {},
   "outputs": [
    {
     "name": "stdout",
     "output_type": "stream",
     "text": [
      "109\n"
     ]
    }
   ],
   "source": [
    "# Question 1\n",
    "# Define a function named 'random_printer'.\n",
    "# It will import the random module and will print a random number between 100 and 200.\n",
    "\n",
    "import random\n",
    "\n",
    "def random_printer():\n",
    "    random_number = random.randint(100, 200)\n",
    "    print(random_number)\n",
    "\n",
    "random_printer()\n"
   ]
  },
  {
   "cell_type": "code",
   "execution_count": 9,
   "metadata": {},
   "outputs": [
    {
     "name": "stdout",
     "output_type": "stream",
     "text": [
      "{'g', 't', 'P', 'm', 'L', 'r', 'n', 'y'}\n"
     ]
    }
   ],
   "source": [
    "# Question 2\n",
    "\n",
    "\"\"\"\n",
    "I create a module with the name consonants.py then I will call the module to run the function.\n",
    "if admin wants to see the file is in my github with the https://github.com/Cortana-Coders/AICI-Tasks link\n",
    "\"\"\"\n",
    "\n",
    "import consonants\n",
    "\n",
    "text = 'Pyton Programming Language A.... /@*-'\n",
    "cons = consonants.get_consonants(text)\n",
    "print(cons)"
   ]
  },
  {
   "cell_type": "markdown",
   "metadata": {},
   "source": [
    "## **Thank You**\n",
    "\n",
    "Link github [click here](https://github.com/Cortana-Coders/AICI-Tasks/ \"link github\")\n",
    "\n",
    "<p align=\"center\">\n",
    "<img src=\"https://i.pinimg.com/originals/bd/22/12/bd22126371bf5109aceab92256c690fe.gif\"  width=80% alt=\"Asuka langley GIF\">\n",
    "</p>"
   ]
  }
 ],
 "metadata": {
  "kernelspec": {
   "display_name": "base",
   "language": "python",
   "name": "python3"
  },
  "language_info": {
   "codemirror_mode": {
    "name": "ipython",
    "version": 3
   },
   "file_extension": ".py",
   "mimetype": "text/x-python",
   "name": "python",
   "nbconvert_exporter": "python",
   "pygments_lexer": "ipython3",
   "version": "3.12.4"
  }
 },
 "nbformat": 4,
 "nbformat_minor": 2
}
