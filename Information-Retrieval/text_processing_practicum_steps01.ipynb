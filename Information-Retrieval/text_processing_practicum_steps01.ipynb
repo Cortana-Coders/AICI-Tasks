{
 "cells": [
  {
   "cell_type": "markdown",
   "metadata": {},
   "source": [
    "## Text Processing <img src=\"../Image/Animation/anime_gif01.gif\" height=\"80px\" style=\"vertical-align: middle;\">\n",
    "### What is Text Processing?\n",
    "Text processing involves various techniques to manipulate and analyze text data. Here are some key concepts:\n",
    "\n",
    "### Tokenization\n",
    "Tokenization is the process of breaking down a text into its smallest elements, such as words, phrases, or symbols. These smallest elements are called tokens. Tokenization is often accompanied by other processes like removing punctuation symbols and converting all letters to lowercase.\n",
    "\n",
    "### Stop Words\n",
    "Stop words are a collection of words that frequently appear in tasks but are considered less informative for decision-making. These collections vary by language. For example, in English documents: the, will, a, can, etc. In Indonesian documents: dan, oleh, yang, etc. One way to remove stop words from data is by creating a list of these less informative words, then checking the data against this list. If a word is found in the stop words list, it will be removed.\n",
    "\n",
    "### Stemming\n",
    "Stemming is the process of transforming a word to its base form (root word). One example of a stemming algorithm is Porter. However, stemming has some weaknesses, such as producing words with different meanings (e.g., quite becomes quit) or generating words that do not exist in the dictionary (e.g., movies becomes movi).\n",
    "\n",
    "### Lemmatization\n",
    "Lemmatization is a process similar to stemming but ensures that the result is a grammatically correct root word. Lemmatization is more complex and thus requires relatively more computation time.\n",
    "\n",
    "---"
   ]
  },
  {
   "cell_type": "code",
   "execution_count": null,
   "metadata": {},
   "outputs": [],
   "source": [
    "import string\n",
    "import pandas as pd\n",
    "import numpy as np"
   ]
  },
  {
   "cell_type": "code",
   "execution_count": 1,
   "metadata": {},
   "outputs": [
    {
     "name": "stdout",
     "output_type": "stream",
     "text": [
      "Saya sangat suka menonton film action, apalagi jika film tersebut\n",
      "dibintangi oleh saya sendiri yang dapat dipastikan menjadi terlihat keren dan\n",
      "menampakkan keseruan\n"
     ]
    }
   ],
   "source": [
    "text = \"\"\"Saya sangat suka menonton film action, apalagi jika film tersebut\n",
    "dibintangi oleh saya sendiri yang dapat dipastikan menjadi terlihat keren dan\n",
    "menampakkan keseruan\"\"\"\n",
    "\n",
    "print(text)"
   ]
  },
  {
   "cell_type": "code",
   "execution_count": null,
   "metadata": {},
   "outputs": [],
   "source": [
    "from Sastrawi.Stemmer.StemmerFactory import StemmerFactory\n",
    "\n",
    "stemmer = StemmerFactory().create_stemmer()\n",
    "text_stemmed = stemmer.steam(text)"
   ]
  },
  {
   "cell_type": "code",
   "execution_count": null,
   "metadata": {},
   "outputs": [],
   "source": [
    "from Sastrawi.StopWordRemover.StopWordRemoverFactory import StopWordRemoverFactory\n",
    "\n",
    "remover = StopWordRemoverFactory().create_stop_word_remover()\n",
    "text_clean = remover.remove(text_stemmed)"
   ]
  },
  {
   "cell_type": "code",
   "execution_count": null,
   "metadata": {},
   "outputs": [],
   "source": [
    "tokens = text_clean.split(' ')\n",
    "\n",
    "print(f\"Sebelum tokenization: {text_clean}\")\n",
    "print(f\"Setelah tokenization: {tokens}\")\n",
    "# Created by Muhamad Fadhli Akbar-2200018197-B"
   ]
  },
  {
   "cell_type": "markdown",
   "metadata": {},
   "source": [
    "## THANK YOU😸\n",
    "\n",
    "<img src=\"../Image/Animation/slowlife.gif\" alt=\"Footer Background\">"
   ]
  }
 ],
 "metadata": {
  "kernelspec": {
   "display_name": "base",
   "language": "python",
   "name": "python3"
  },
  "language_info": {
   "codemirror_mode": {
    "name": "ipython",
    "version": 3
   },
   "file_extension": ".py",
   "mimetype": "text/x-python",
   "name": "python",
   "nbconvert_exporter": "python",
   "pygments_lexer": "ipython3",
   "version": "3.12.4"
  }
 },
 "nbformat": 4,
 "nbformat_minor": 2
}
